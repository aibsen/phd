{
 "cells": [
  {
   "cell_type": "code",
   "execution_count": 2,
   "metadata": {},
   "outputs": [],
   "source": [
    "import pandas as pd\n",
    "import numpy as np\n",
    "import sys  \n",
    "sys.path.insert(0, '../source/')\n",
    "from preprocess_data_utils import *"
   ]
  },
  {
   "cell_type": "code",
   "execution_count": 5,
   "metadata": {},
   "outputs": [
    {
     "name": "stdout",
     "output_type": "stream",
     "text": [
      "       id          time  band         flux      fluxerr\n",
      "0       0  2.458155e+06     1  -237.054539  1260.000000\n",
      "1       0  2.458155e+06     0  -794.576140  1260.000000\n",
      "2       0  2.458159e+06     1  2333.287998  1260.000000\n",
      "3       0  2.458159e+06     0  -739.162413  1260.000000\n",
      "4       0  2.458160e+06     1 -1147.236170  1260.000000\n",
      "..    ...           ...   ...          ...          ...\n",
      "13  17688  2.458203e+06     0  4422.731806  1261.098410\n",
      "15  17688  2.458207e+06     1  -819.925159  1260.331751\n",
      "16  17688  2.458207e+06     0  2884.143898  1260.970114\n",
      "17  17688  2.458212e+06     1  2148.332786  1260.298445\n",
      "18  17688  2.458212e+06     0  2825.694093  1260.865841\n",
      "\n",
      "[1398585 rows x 5 columns]\n"
     ]
    }
   ],
   "source": [
    "#load snIa simulated lightcurves\n",
    "snIa = pkl_to_df(\"../data/training/raw/lcs_Ia_salt2_000000.pkl\")\n",
    "snIa_tags = df_tags(snIa, 0)\n",
    "\n",
    "#last_id = int(snIa_tags.id.tail(1).values+1)\n",
    "#snIa_1 = pkl_to_df(\"../data/training/lcs_Ia_salt2_000001.pkl\",last_id)\n",
    "#snIa_tags_1 = df_tags(snIa_1, 0)\n",
    "\n",
    "#last_id = int(snIa_tags_1.id.tail(1).values+1)\n",
    "#snIa_2 = pkl_to_df(\"../data/training/lcs_Ia_salt2_000002.pkl\",last_id)\n",
    "#snIa_tags_2 = df_tags(snIa_2, 0)\n",
    "\n",
    "print(snIa)"
   ]
  },
  {
   "cell_type": "code",
   "execution_count": null,
   "metadata": {},
   "outputs": [],
   "source": []
  },
  {
   "cell_type": "code",
   "execution_count": 30,
   "metadata": {},
   "outputs": [],
   "source": [
    "#load snIbc simulated lightcurves\n",
    "last_id = int(snIa_tags_2.id.tail(1).values+1)\n",
    "snIbc = pkl_to_df(\"../data/training/lcs_Ibc_nugent_000000.pkl\",last_id)\n",
    "snIbc_tags = df_tags(snIbc, 1)\n",
    "\n",
    "#last_id = int(snIbc_tags.id.tail(1).values+1)\n",
    "#snIbc_1 = pkl_to_df(\"../data/training/lcs_Ibc_nugent_000001.pkl\",last_id)\n",
    "#snIbc_tags_1 = df_tags(snIbc_1, 1)\n",
    "\n",
    "#last_id = int(snIbc_tags_1.id.tail(1).values+1)\n",
    "#snIbc_2 = pkl_to_df(\"../data/training/lcs_Ibc_nugent_000002.pkl\",last_id)\n",
    "#snIbc_tags_2 = df_tags(snIbc_2, 1)"
   ]
  },
  {
   "cell_type": "code",
   "execution_count": 31,
   "metadata": {},
   "outputs": [],
   "source": [
    "#load snIIn simulated lightcurves\n",
    "last_id = int(snIbc_tags_2.id.tail(1).values+1)\n",
    "snIIn = pkl_to_df(\"../data/training/lcs_IIn_nugent_000000.pkl\",last_id)\n",
    "snIIn_tags = df_tags(snIIn, 2)\n",
    "\n",
    "last_id = int(snIIn_tags.id.tail(1).values+1)\n",
    "snIIn_1 = pkl_to_df(\"../data/training/lcs_IIn_nugent_000001.pkl\",last_id)\n",
    "snIIn_tags_1 = df_tags(snIIn_1, 2)\n",
    "\n",
    "last_id = int(snIIn_tags_1.id.tail(1).values+1)\n",
    "snIIn_2 = pkl_to_df(\"../data/training/lcs_IIn_nugent_000002.pkl\",last_id)\n",
    "snIIn_tags_2 = df_tags(snIIn_2, 2)"
   ]
  },
  {
   "cell_type": "code",
   "execution_count": 32,
   "metadata": {},
   "outputs": [],
   "source": [
    "#load snIIP simulated lightcurves\n",
    "last_id = int(snIIn_tags_2.id.tail(1).values+1)\n",
    "snIIP = pkl_to_df(\"../data/training/lcs_IIP_nugent_000000.pkl\",last_id)\n",
    "snIIP_tags = df_tags(snIIP, 3)\n",
    "\n",
    "last_id = int(snIIP_tags.id.tail(1).values+1)\n",
    "snIIP_1 = pkl_to_df(\"../data/training/lcs_IIP_nugent_000001.pkl\",last_id)\n",
    "snIIP_tags_1 = df_tags(snIIP_1, 3)\n",
    "\n",
    "last_id = int(snIIP_tags_1.id.tail(1).values+1)\n",
    "snIIP_2 = pkl_to_df(\"../data/training/lcs_IIP_nugent_000002.pkl\",last_id)\n",
    "snIIP_tags_2 = df_tags(snIIP_2, 3)"
   ]
  },
  {
   "cell_type": "code",
   "execution_count": 42,
   "metadata": {},
   "outputs": [
    {
     "data": {
      "text/plain": [
       "True"
      ]
     },
     "execution_count": 42,
     "metadata": {},
     "output_type": "execute_result"
    }
   ],
   "source": [
    "data_list = [snIa, snIbc, snIIn, snIIP, snIbc_1, snIIn_1, snIa_1, snIIP_1, snIIn_2, snIbc_2, snIa_2, snIIP_2]\n",
    "tag_list = [snIa_tags, snIbc_tags, snIIn_tags, snIIP_tags, snIbc_tags_1, snIIn_tags_1, snIa_tags_1, snIIP_tags_1, snIIn_tags_2, snIbc_tags_2, snIa_tags_2, snIIP_tags_2]\n",
    "data = pd.concat(data_list,ignore_index=True)\n",
    "tags = pd.concat(tag_list, ignore_index=True)\n",
    "\n",
    "#sanity check\n",
    "data.groupby([\"id\"]).count().shape[0]==tags.shape[0]"
   ]
  },
  {
   "cell_type": "code",
   "execution_count": 43,
   "metadata": {},
   "outputs": [],
   "source": [
    "x,ids,y= create_interpolated_vectors(data,tags,128)"
   ]
  },
  {
   "cell_type": "code",
   "execution_count": 44,
   "metadata": {},
   "outputs": [
    {
     "data": {
      "text/plain": [
       "(90620, 4, 128)"
      ]
     },
     "execution_count": 44,
     "metadata": {},
     "output_type": "execute_result"
    }
   ],
   "source": [
    "x.shape\n"
   ]
  },
  {
   "cell_type": "code",
   "execution_count": 45,
   "metadata": {},
   "outputs": [
    {
     "data": {
      "text/plain": [
       "array([    0,     1,     2, ..., 90617, 90618, 90619])"
      ]
     },
     "execution_count": 45,
     "metadata": {},
     "output_type": "execute_result"
    }
   ],
   "source": [
    "ids"
   ]
  },
  {
   "cell_type": "code",
   "execution_count": 46,
   "metadata": {},
   "outputs": [
    {
     "data": {
      "text/plain": [
       "array([0, 0, 0, ..., 3, 3, 3])"
      ]
     },
     "execution_count": 46,
     "metadata": {},
     "output_type": "execute_result"
    }
   ],
   "source": [
    "y"
   ]
  },
  {
   "cell_type": "code",
   "execution_count": 47,
   "metadata": {},
   "outputs": [],
   "source": [
    "    dataset = {\n",
    "        \"X\":x,\n",
    "        \"ids\":ids,\n",
    "        \"Y\": y\n",
    "    }"
   ]
  },
  {
   "cell_type": "code",
   "execution_count": 48,
   "metadata": {},
   "outputs": [
    {
     "name": "stdout",
     "output_type": "stream",
     "text": [
      "writing X\n",
      "writing ids\n",
      "writing Y\n"
     ]
    }
   ],
   "source": [
    "save_vectors(dataset, \"sn_012.h5\")"
   ]
  },
  {
   "cell_type": "code",
   "execution_count": 49,
   "metadata": {},
   "outputs": [
    {
     "data": {
      "text/plain": [
       "(90620, 4, 128)"
      ]
     },
     "execution_count": 49,
     "metadata": {},
     "output_type": "execute_result"
    }
   ],
   "source": [
    "x.shape"
   ]
  }
 ],
 "metadata": {
  "kernelspec": {
   "display_name": "Python 3",
   "language": "python",
   "name": "python3"
  },
  "language_info": {
   "codemirror_mode": {
    "name": "ipython",
    "version": 3
   },
   "file_extension": ".py",
   "mimetype": "text/x-python",
   "name": "python",
   "nbconvert_exporter": "python",
   "pygments_lexer": "ipython3",
   "version": "3.7.6"
  }
 },
 "nbformat": 4,
 "nbformat_minor": 2
}
