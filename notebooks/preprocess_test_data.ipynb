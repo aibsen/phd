{
 "cells": [
  {
   "cell_type": "code",
   "execution_count": 21,
   "metadata": {},
   "outputs": [],
   "source": [
    "import pandas as pd\n",
    "import numpy as np\n",
    "import sys  \n",
    "sys.path.insert(0, '../source/')\n",
    "from preprocess_data_utils import *"
   ]
  },
  {
   "cell_type": "code",
   "execution_count": 26,
   "metadata": {},
   "outputs": [
    {
     "data": {
      "text/html": [
       "<div>\n",
       "<style scoped>\n",
       "    .dataframe tbody tr th:only-of-type {\n",
       "        vertical-align: middle;\n",
       "    }\n",
       "\n",
       "    .dataframe tbody tr th {\n",
       "        vertical-align: top;\n",
       "    }\n",
       "\n",
       "    .dataframe thead th {\n",
       "        text-align: right;\n",
       "    }\n",
       "</style>\n",
       "<table border=\"1\" class=\"dataframe\">\n",
       "  <thead>\n",
       "    <tr style=\"text-align: right;\">\n",
       "      <th></th>\n",
       "      <th>objectId</th>\n",
       "      <th>jd</th>\n",
       "      <th>magpsf</th>\n",
       "      <th>sigmapsf</th>\n",
       "      <th>fid</th>\n",
       "    </tr>\n",
       "  </thead>\n",
       "  <tbody>\n",
       "    <tr>\n",
       "      <th>0</th>\n",
       "      <td>ZTF18aaqvuhl</td>\n",
       "      <td>2.458832e+06</td>\n",
       "      <td>17.5325</td>\n",
       "      <td>0.087969</td>\n",
       "      <td>1</td>\n",
       "    </tr>\n",
       "    <tr>\n",
       "      <th>1</th>\n",
       "      <td>ZTF18aaqvuhl</td>\n",
       "      <td>2.458837e+06</td>\n",
       "      <td>17.8010</td>\n",
       "      <td>0.063838</td>\n",
       "      <td>2</td>\n",
       "    </tr>\n",
       "    <tr>\n",
       "      <th>2</th>\n",
       "      <td>ZTF18aaqvuhl</td>\n",
       "      <td>2.458837e+06</td>\n",
       "      <td>17.9158</td>\n",
       "      <td>0.068974</td>\n",
       "      <td>1</td>\n",
       "    </tr>\n",
       "    <tr>\n",
       "      <th>3</th>\n",
       "      <td>ZTF18aaqvuhl</td>\n",
       "      <td>2.458838e+06</td>\n",
       "      <td>18.1140</td>\n",
       "      <td>0.123001</td>\n",
       "      <td>1</td>\n",
       "    </tr>\n",
       "    <tr>\n",
       "      <th>4</th>\n",
       "      <td>ZTF18aaqvuhl</td>\n",
       "      <td>2.458851e+06</td>\n",
       "      <td>18.2250</td>\n",
       "      <td>0.079198</td>\n",
       "      <td>2</td>\n",
       "    </tr>\n",
       "  </tbody>\n",
       "</table>\n",
       "</div>"
      ],
      "text/plain": [
       "    objectId        jd                 magpsf     sigmapsf     fid  \n",
       "0   ZTF18aaqvuhl        2.458832e+06    17.5325     0.087969       1\n",
       "1   ZTF18aaqvuhl        2.458837e+06    17.8010     0.063838       2\n",
       "2   ZTF18aaqvuhl        2.458837e+06    17.9158     0.068974       1\n",
       "3   ZTF18aaqvuhl        2.458838e+06    18.1140     0.123001       1\n",
       "4   ZTF18aaqvuhl        2.458851e+06    18.2250     0.079198       2"
      ]
     },
     "execution_count": 26,
     "metadata": {},
     "output_type": "execute_result"
    }
   ],
   "source": [
    "#load real light curves\n",
    "snIa = pd.read_csv('../data/testing/snIa.csv',sep=\"|\").dropna(axis=1)\n",
    "snIa.head()"
   ]
  },
  {
   "cell_type": "code",
   "execution_count": 29,
   "metadata": {},
   "outputs": [],
   "source": [
    "#rename columns\n",
    "snIa.columns = [\"id\",\"time\",\"flux\",\"flux_err\",\"band\"]"
   ]
  },
  {
   "cell_type": "code",
   "execution_count": 38,
   "metadata": {},
   "outputs": [],
   "source": [
    "#make passbands consistent with simulated data (0,1 instad of 1,2)\n",
    "snIa.loc[snIa[\"band\"]==2,\"band\"] = 0"
   ]
  },
  {
   "cell_type": "code",
   "execution_count": 40,
   "metadata": {},
   "outputs": [],
   "source": [
    "#flux to magnitude\n",
    "def flux_to_mag"
   ]
  },
  {
   "cell_type": "code",
   "execution_count": null,
   "metadata": {},
   "outputs": [],
   "source": []
  }
 ],
 "metadata": {
  "kernelspec": {
   "display_name": "Python 3",
   "language": "python",
   "name": "python3"
  },
  "language_info": {
   "codemirror_mode": {
    "name": "ipython",
    "version": 3
   },
   "file_extension": ".py",
   "mimetype": "text/x-python",
   "name": "python",
   "nbconvert_exporter": "python",
   "pygments_lexer": "ipython3",
   "version": "3.7.6"
  }
 },
 "nbformat": 4,
 "nbformat_minor": 2
}
