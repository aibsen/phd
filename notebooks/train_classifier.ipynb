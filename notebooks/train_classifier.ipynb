{
 "cells": [
  {
   "cell_type": "code",
   "execution_count": 2,
   "metadata": {},
   "outputs": [],
   "source": [
    "import numpy as np\n",
    "import pandas as pd\n",
    "import torch\n",
    "import torch.nn as nn\n",
    "import time\n",
    "import h5py\n",
    "import sys  \n",
    "sys.path.insert(0, '../source/')\n",
    "from datasets import Interpolated_LCs\n",
    "from recurrent_models import GRU1D\n",
    "from experiment import Experiment\n"
   ]
  },
  {
   "cell_type": "code",
   "execution_count": 8,
   "metadata": {},
   "outputs": [
    {
     "name": "stdout",
     "output_type": "stream",
     "text": [
      "(30324, 4, 128)\n",
      "(30324,)\n",
      "(30324,)\n"
     ]
    }
   ],
   "source": [
    "lc_length = 128\n",
    "seed = 1772670\n",
    "torch.manual_seed(seed=seed) \n",
    "use_gpu = True\n",
    "lr = 1e-03\n",
    "wdc = 0\n",
    "\n",
    "\n",
    "#load dataset\n",
    "interpolated_dataset_filename = \"../data/training/linearly_interpolated/sn_000000.h5\"\n",
    "interpolated_dataset = Interpolated_LCs(lc_length, interpolated_dataset_filename)\n",
    "dataset_length = len(interpolated_dataset)"
   ]
  },
  {
   "cell_type": "code",
   "execution_count": 9,
   "metadata": {},
   "outputs": [],
   "source": [
    "#split into train/validation, validation will be ~ .3\n",
    "val_length = int(dataset_length/3)\n",
    "train_length = dataset_length - val_length\n",
    "train_dataset, val_dataset = torch.utils.data.random_split(interpolated_dataset, [train_length, val_length])"
   ]
  },
  {
   "cell_type": "code",
   "execution_count": 10,
   "metadata": {},
   "outputs": [],
   "source": [
    "#dataset loaders\n",
    "batch_size = 64\n",
    "train_loader = torch.utils.data.DataLoader(train_dataset, batch_size=batch_size, shuffle=True)\n",
    "val_loader = torch.utils.data.DataLoader(val_dataset, batch_size=batch_size, shuffle=True)"
   ]
  },
  {
   "cell_type": "code",
   "execution_count": 11,
   "metadata": {},
   "outputs": [
    {
     "name": "stderr",
     "output_type": "stream",
     "text": [
      "loss: 1.0187, accuracy: 0.6719:   4%|▍         | 12/316 [00:00<00:05, 59.33it/s]"
     ]
    },
    {
     "name": "stdout",
     "output_type": "stream",
     "text": [
      "Building basic block of GRU ensemble using input shape torch.Size([4, 128])\n",
      "{'input_shape': torch.Size([4, 128]), 'num_output_classes': 4, 'hidden_size': 100, 'batch_size': 64, 'attention': 'self_attention', 'da': 50, 'r': 1}\n",
      "use GPU\n"
     ]
    },
    {
     "name": "stderr",
     "output_type": "stream",
     "text": [
      "loss: 0.7361, accuracy: 0.7321: 100%|██████████| 316/316 [00:04<00:00, 64.84it/s]\n",
      "loss: 0.8244, accuracy: 0.6667: 100%|██████████| 158/158 [00:00<00:00, 161.09it/s]\n",
      "loss: 0.6309, accuracy: 0.7969:   2%|▏         | 7/316 [00:00<00:06, 45.15it/s]"
     ]
    },
    {
     "name": "stdout",
     "output_type": "stream",
     "text": [
      "Epoch 0: train_acc_0.7086_train_loss_0.7793_val_acc_0.7436_val_loss_0.6888 epoch time 5.8605 seconds\n"
     ]
    },
    {
     "name": "stderr",
     "output_type": "stream",
     "text": [
      "loss: 0.5975, accuracy: 0.8214: 100%|██████████| 316/316 [00:04<00:00, 63.42it/s]\n",
      "loss: 0.5832, accuracy: 0.8167: 100%|██████████| 158/158 [00:00<00:00, 161.60it/s]\n",
      "loss: 0.6016, accuracy: 0.7500:   3%|▎         | 11/316 [00:00<00:05, 60.04it/s]"
     ]
    },
    {
     "name": "stdout",
     "output_type": "stream",
     "text": [
      "Epoch 1: train_acc_0.7497_train_loss_0.6542_val_acc_0.7638_val_loss_0.6218 epoch time 5.9654 seconds\n"
     ]
    },
    {
     "name": "stderr",
     "output_type": "stream",
     "text": [
      "loss: 0.6707, accuracy: 0.7143: 100%|██████████| 316/316 [00:04<00:00, 64.54it/s]\n",
      "loss: 0.6032, accuracy: 0.8000: 100%|██████████| 158/158 [00:01<00:00, 157.67it/s]\n",
      "loss: 0.5283, accuracy: 0.7656:   4%|▍         | 12/316 [00:00<00:04, 62.87it/s]"
     ]
    },
    {
     "name": "stdout",
     "output_type": "stream",
     "text": [
      "Epoch 2: train_acc_0.7684_train_loss_0.6011_val_acc_0.7829_val_loss_0.5817 epoch time 5.9035 seconds\n"
     ]
    },
    {
     "name": "stderr",
     "output_type": "stream",
     "text": [
      "loss: 0.4807, accuracy: 0.8214: 100%|██████████| 316/316 [00:04<00:00, 63.87it/s]\n",
      "loss: 0.6295, accuracy: 0.7500: 100%|██████████| 158/158 [00:00<00:00, 160.46it/s]\n",
      "loss: 0.4443, accuracy: 0.8125:   4%|▍         | 12/316 [00:00<00:04, 63.09it/s]"
     ]
    },
    {
     "name": "stdout",
     "output_type": "stream",
     "text": [
      "Epoch 3: train_acc_0.7865_train_loss_0.5589_val_acc_0.8048_val_loss_0.5140 epoch time 5.9385 seconds\n"
     ]
    },
    {
     "name": "stderr",
     "output_type": "stream",
     "text": [
      "loss: 0.3491, accuracy: 0.8750: 100%|██████████| 316/316 [00:04<00:00, 64.40it/s]\n",
      "loss: 0.4794, accuracy: 0.7833: 100%|██████████| 158/158 [00:00<00:00, 158.07it/s]\n",
      "loss: 0.4675, accuracy: 0.8125:   4%|▍         | 12/316 [00:00<00:04, 62.39it/s]"
     ]
    },
    {
     "name": "stdout",
     "output_type": "stream",
     "text": [
      "Epoch 4: train_acc_0.8060_train_loss_0.5078_val_acc_0.8100_val_loss_0.4951 epoch time 5.9125 seconds\n"
     ]
    },
    {
     "name": "stderr",
     "output_type": "stream",
     "text": [
      "loss: 0.3960, accuracy: 0.8036: 100%|██████████| 316/316 [00:04<00:00, 65.03it/s]\n",
      "loss: 0.4942, accuracy: 0.8167: 100%|██████████| 158/158 [00:00<00:00, 159.66it/s]\n",
      "loss: 0.3803, accuracy: 0.9062:   4%|▍         | 12/316 [00:00<00:04, 61.84it/s]"
     ]
    },
    {
     "name": "stdout",
     "output_type": "stream",
     "text": [
      "Epoch 5: train_acc_0.8208_train_loss_0.4715_val_acc_0.8315_val_loss_0.4535 epoch time 5.8537 seconds\n"
     ]
    },
    {
     "name": "stderr",
     "output_type": "stream",
     "text": [
      "loss: 0.2719, accuracy: 0.9107: 100%|██████████| 316/316 [00:04<00:00, 63.85it/s]\n",
      "loss: 0.4024, accuracy: 0.8833: 100%|██████████| 158/158 [00:00<00:00, 160.03it/s]\n",
      "loss: 0.3266, accuracy: 0.8906:   4%|▍         | 12/316 [00:00<00:04, 63.23it/s]"
     ]
    },
    {
     "name": "stdout",
     "output_type": "stream",
     "text": [
      "Epoch 6: train_acc_0.8247_train_loss_0.4523_val_acc_0.8273_val_loss_0.4564 epoch time 5.9427 seconds\n"
     ]
    },
    {
     "name": "stderr",
     "output_type": "stream",
     "text": [
      "loss: 0.5141, accuracy: 0.7857: 100%|██████████| 316/316 [00:04<00:00, 65.36it/s]\n",
      "loss: 0.2891, accuracy: 0.8833: 100%|██████████| 158/158 [00:00<00:00, 161.37it/s]\n",
      "loss: 0.3955, accuracy: 0.7812:   4%|▍         | 12/316 [00:00<00:04, 65.96it/s]"
     ]
    },
    {
     "name": "stdout",
     "output_type": "stream",
     "text": [
      "Epoch 7: train_acc_0.8319_train_loss_0.4341_val_acc_0.8406_val_loss_0.4237 epoch time 5.8191 seconds\n"
     ]
    },
    {
     "name": "stderr",
     "output_type": "stream",
     "text": [
      "loss: 0.5385, accuracy: 0.8036: 100%|██████████| 316/316 [00:04<00:00, 65.29it/s]\n",
      "loss: 0.4942, accuracy: 0.8167: 100%|██████████| 158/158 [00:00<00:00, 161.53it/s]\n",
      "loss: 0.3883, accuracy: 0.9219:   4%|▍         | 13/316 [00:00<00:04, 67.07it/s]"
     ]
    },
    {
     "name": "stdout",
     "output_type": "stream",
     "text": [
      "Epoch 8: train_acc_0.8438_train_loss_0.4022_val_acc_0.8437_val_loss_0.4189 epoch time 5.8248 seconds\n"
     ]
    },
    {
     "name": "stderr",
     "output_type": "stream",
     "text": [
      "loss: 0.2740, accuracy: 0.8929: 100%|██████████| 316/316 [00:04<00:00, 64.06it/s]\n",
      "loss: 0.1257, accuracy: 0.9667: 100%|██████████| 158/158 [00:00<00:00, 161.29it/s]\n",
      "loss: 0.3672, accuracy: 0.8438:   4%|▍         | 12/316 [00:00<00:04, 65.09it/s]"
     ]
    },
    {
     "name": "stdout",
     "output_type": "stream",
     "text": [
      "Epoch 9: train_acc_0.8522_train_loss_0.3855_val_acc_0.8566_val_loss_0.3758 epoch time 5.9193 seconds\n"
     ]
    },
    {
     "name": "stderr",
     "output_type": "stream",
     "text": [
      "loss: 0.4687, accuracy: 0.7679: 100%|██████████| 316/316 [00:04<00:00, 65.05it/s]\n",
      "loss: 0.3626, accuracy: 0.8833: 100%|██████████| 158/158 [00:00<00:00, 160.98it/s]\n",
      "loss: 0.3278, accuracy: 0.8750:   4%|▍         | 12/316 [00:00<00:04, 65.13it/s]"
     ]
    },
    {
     "name": "stdout",
     "output_type": "stream",
     "text": [
      "Epoch 10: train_acc_0.8533_train_loss_0.3767_val_acc_0.8293_val_loss_0.4367 epoch time 5.8484 seconds\n"
     ]
    },
    {
     "name": "stderr",
     "output_type": "stream",
     "text": [
      "loss: 0.3718, accuracy: 0.8393: 100%|██████████| 316/316 [00:04<00:00, 65.70it/s]\n",
      "loss: 0.3631, accuracy: 0.8667: 100%|██████████| 158/158 [00:01<00:00, 143.21it/s]\n",
      "loss: 0.5142, accuracy: 0.8281:   3%|▎         | 10/316 [00:00<00:05, 51.80it/s]"
     ]
    },
    {
     "name": "stdout",
     "output_type": "stream",
     "text": [
      "Epoch 11: train_acc_0.8541_train_loss_0.3741_val_acc_0.8528_val_loss_0.3862 epoch time 5.9206 seconds\n"
     ]
    },
    {
     "name": "stderr",
     "output_type": "stream",
     "text": [
      "loss: 0.4917, accuracy: 0.7857: 100%|██████████| 316/316 [00:04<00:00, 63.91it/s]\n",
      "loss: 0.3217, accuracy: 0.9000: 100%|██████████| 158/158 [00:00<00:00, 159.04it/s]\n",
      "loss: 0.4632, accuracy: 0.8438:   4%|▍         | 12/316 [00:00<00:04, 65.70it/s]"
     ]
    },
    {
     "name": "stdout",
     "output_type": "stream",
     "text": [
      "Epoch 12: train_acc_0.8600_train_loss_0.3644_val_acc_0.8537_val_loss_0.3828 epoch time 5.9441 seconds\n"
     ]
    },
    {
     "name": "stderr",
     "output_type": "stream",
     "text": [
      "loss: 0.3332, accuracy: 0.8929: 100%|██████████| 316/316 [00:04<00:00, 63.95it/s]\n",
      "loss: 0.4032, accuracy: 0.8333: 100%|██████████| 158/158 [00:00<00:00, 158.90it/s]\n",
      "loss: 0.2766, accuracy: 0.8906:   4%|▍         | 12/316 [00:00<00:04, 63.82it/s]"
     ]
    },
    {
     "name": "stdout",
     "output_type": "stream",
     "text": [
      "Epoch 13: train_acc_0.8541_train_loss_0.3696_val_acc_0.8617_val_loss_0.3682 epoch time 5.9416 seconds\n"
     ]
    },
    {
     "name": "stderr",
     "output_type": "stream",
     "text": [
      "loss: 0.2902, accuracy: 0.9286: 100%|██████████| 316/316 [00:04<00:00, 63.35it/s]\n",
      "loss: 0.2922, accuracy: 0.9167: 100%|██████████| 158/158 [00:00<00:00, 160.29it/s]\n",
      "loss: 0.4301, accuracy: 0.8281:   4%|▍         | 13/316 [00:00<00:04, 70.73it/s]"
     ]
    },
    {
     "name": "stdout",
     "output_type": "stream",
     "text": [
      "Epoch 14: train_acc_0.8624_train_loss_0.3598_val_acc_0.8627_val_loss_0.3720 epoch time 5.9792 seconds\n"
     ]
    },
    {
     "name": "stderr",
     "output_type": "stream",
     "text": [
      "loss: 0.3863, accuracy: 0.8036: 100%|██████████| 316/316 [00:04<00:00, 64.98it/s]\n",
      "loss: 0.4950, accuracy: 0.8000: 100%|██████████| 158/158 [00:00<00:00, 158.81it/s]\n",
      "loss: 0.3844, accuracy: 0.8594:   4%|▍         | 12/316 [00:00<00:04, 63.72it/s]"
     ]
    },
    {
     "name": "stdout",
     "output_type": "stream",
     "text": [
      "Epoch 15: train_acc_0.8674_train_loss_0.3472_val_acc_0.8634_val_loss_0.3651 epoch time 5.8633 seconds\n"
     ]
    },
    {
     "name": "stderr",
     "output_type": "stream",
     "text": [
      "loss: 0.2304, accuracy: 0.9107: 100%|██████████| 316/316 [00:04<00:00, 64.53it/s]\n",
      "loss: 0.2961, accuracy: 0.8333: 100%|██████████| 158/158 [00:00<00:00, 158.21it/s]\n",
      "loss: 0.3154, accuracy: 0.8906:   4%|▍         | 13/316 [00:00<00:04, 66.96it/s]"
     ]
    },
    {
     "name": "stdout",
     "output_type": "stream",
     "text": [
      "Epoch 16: train_acc_0.8750_train_loss_0.3277_val_acc_0.8682_val_loss_0.3456 epoch time 5.9030 seconds\n"
     ]
    },
    {
     "name": "stderr",
     "output_type": "stream",
     "text": [
      "loss: 0.3552, accuracy: 0.9107: 100%|██████████| 316/316 [00:04<00:00, 64.33it/s]\n",
      "loss: 0.4456, accuracy: 0.8667: 100%|██████████| 158/158 [00:00<00:00, 159.60it/s]\n",
      "loss: 0.2412, accuracy: 0.9219:   4%|▍         | 13/316 [00:00<00:04, 64.61it/s]"
     ]
    },
    {
     "name": "stdout",
     "output_type": "stream",
     "text": [
      "Epoch 17: train_acc_0.8760_train_loss_0.3220_val_acc_0.8726_val_loss_0.3482 epoch time 5.9072 seconds\n"
     ]
    },
    {
     "name": "stderr",
     "output_type": "stream",
     "text": [
      "loss: 0.3544, accuracy: 0.8750: 100%|██████████| 316/316 [00:04<00:00, 64.98it/s]\n",
      "loss: 0.2742, accuracy: 0.9167: 100%|██████████| 158/158 [00:00<00:00, 162.50it/s]\n",
      "loss: 0.2775, accuracy: 0.8906:   4%|▍         | 12/316 [00:00<00:04, 66.05it/s]"
     ]
    },
    {
     "name": "stdout",
     "output_type": "stream",
     "text": [
      "Epoch 18: train_acc_0.8824_train_loss_0.3083_val_acc_0.8802_val_loss_0.3163 epoch time 5.8423 seconds\n"
     ]
    },
    {
     "name": "stderr",
     "output_type": "stream",
     "text": [
      "loss: 0.2975, accuracy: 0.8929: 100%|██████████| 316/316 [00:04<00:00, 65.59it/s]\n",
      "loss: 0.1816, accuracy: 0.9333: 100%|██████████| 158/158 [00:00<00:00, 160.31it/s]\n",
      "loss: 0.1718, accuracy: 0.9062:   4%|▍         | 13/316 [00:00<00:04, 65.55it/s]"
     ]
    },
    {
     "name": "stdout",
     "output_type": "stream",
     "text": [
      "Epoch 19: train_acc_0.8863_train_loss_0.2990_val_acc_0.8793_val_loss_0.3228 epoch time 5.8087 seconds\n"
     ]
    },
    {
     "name": "stderr",
     "output_type": "stream",
     "text": [
      "loss: 0.4932, accuracy: 0.8214: 100%|██████████| 316/316 [00:04<00:00, 63.79it/s]\n",
      "loss: 0.3766, accuracy: 0.8833: 100%|██████████| 158/158 [00:00<00:00, 162.53it/s]\n",
      "loss: 0.3191, accuracy: 0.8906:   4%|▍         | 13/316 [00:00<00:04, 67.57it/s]"
     ]
    },
    {
     "name": "stdout",
     "output_type": "stream",
     "text": [
      "Epoch 20: train_acc_0.8813_train_loss_0.3052_val_acc_0.8632_val_loss_0.3566 epoch time 5.9312 seconds\n"
     ]
    },
    {
     "name": "stderr",
     "output_type": "stream",
     "text": [
      "loss: 0.1697, accuracy: 0.9643: 100%|██████████| 316/316 [00:04<00:00, 66.42it/s]\n",
      "loss: 0.4303, accuracy: 0.8333: 100%|██████████| 158/158 [00:00<00:00, 161.18it/s]\n",
      "loss: 0.2136, accuracy: 0.8906:   4%|▍         | 13/316 [00:00<00:04, 64.62it/s]"
     ]
    },
    {
     "name": "stdout",
     "output_type": "stream",
     "text": [
      "Epoch 21: train_acc_0.8812_train_loss_0.3028_val_acc_0.8768_val_loss_0.3265 epoch time 5.7448 seconds\n"
     ]
    },
    {
     "name": "stderr",
     "output_type": "stream",
     "text": [
      "loss: 0.2877, accuracy: 0.8393: 100%|██████████| 316/316 [00:04<00:00, 64.88it/s]\n",
      "loss: 0.2061, accuracy: 0.9167: 100%|██████████| 158/158 [00:00<00:00, 162.56it/s]\n",
      "loss: 0.2073, accuracy: 0.9062:   4%|▍         | 13/316 [00:00<00:04, 68.35it/s]"
     ]
    },
    {
     "name": "stdout",
     "output_type": "stream",
     "text": [
      "Epoch 22: train_acc_0.8898_train_loss_0.2891_val_acc_0.8614_val_loss_0.3552 epoch time 5.8488 seconds\n"
     ]
    },
    {
     "name": "stderr",
     "output_type": "stream",
     "text": [
      "loss: 0.1460, accuracy: 0.9464: 100%|██████████| 316/316 [00:04<00:00, 64.46it/s]\n",
      "loss: 0.2160, accuracy: 0.9167: 100%|██████████| 158/158 [00:01<00:00, 154.61it/s]\n",
      "loss: 0.2413, accuracy: 0.8906:   4%|▍         | 13/316 [00:00<00:04, 67.48it/s]"
     ]
    },
    {
     "name": "stdout",
     "output_type": "stream",
     "text": [
      "Epoch 23: train_acc_0.8906_train_loss_0.2868_val_acc_0.8780_val_loss_0.3247 epoch time 5.9294 seconds\n"
     ]
    },
    {
     "name": "stderr",
     "output_type": "stream",
     "text": [
      "loss: 0.3876, accuracy: 0.8571: 100%|██████████| 316/316 [00:04<00:00, 66.05it/s]\n",
      "loss: 0.3233, accuracy: 0.8833: 100%|██████████| 158/158 [00:00<00:00, 161.11it/s]\n",
      "loss: 0.3147, accuracy: 0.8594:   4%|▍         | 13/316 [00:00<00:04, 69.33it/s]"
     ]
    },
    {
     "name": "stdout",
     "output_type": "stream",
     "text": [
      "Epoch 24: train_acc_0.8953_train_loss_0.2745_val_acc_0.8837_val_loss_0.3098 epoch time 5.7706 seconds\n"
     ]
    },
    {
     "name": "stderr",
     "output_type": "stream",
     "text": [
      "loss: 0.2963, accuracy: 0.8750: 100%|██████████| 316/316 [00:04<00:00, 65.16it/s]\n",
      "loss: 0.2608, accuracy: 0.9167: 100%|██████████| 158/158 [00:00<00:00, 163.75it/s]\n",
      "loss: 0.3924, accuracy: 0.8906:   4%|▍         | 12/316 [00:00<00:04, 66.16it/s]"
     ]
    },
    {
     "name": "stdout",
     "output_type": "stream",
     "text": [
      "Epoch 25: train_acc_0.8921_train_loss_0.2850_val_acc_0.8775_val_loss_0.3276 epoch time 5.8200 seconds\n"
     ]
    },
    {
     "name": "stderr",
     "output_type": "stream",
     "text": [
      "loss: 0.2649, accuracy: 0.9107: 100%|██████████| 316/316 [00:04<00:00, 65.32it/s]\n",
      "loss: 0.3385, accuracy: 0.8833: 100%|██████████| 158/158 [00:00<00:00, 163.93it/s]\n",
      "loss: 0.1589, accuracy: 0.9375:   4%|▍         | 13/316 [00:00<00:04, 68.75it/s]"
     ]
    },
    {
     "name": "stdout",
     "output_type": "stream",
     "text": [
      "Epoch 26: train_acc_0.8921_train_loss_0.2819_val_acc_0.8867_val_loss_0.2964 epoch time 5.8069 seconds\n"
     ]
    },
    {
     "name": "stderr",
     "output_type": "stream",
     "text": [
      "loss: 0.4608, accuracy: 0.8214: 100%|██████████| 316/316 [00:04<00:00, 65.47it/s]\n",
      "loss: 0.2364, accuracy: 0.8667: 100%|██████████| 158/158 [00:00<00:00, 163.54it/s]\n",
      "loss: 0.2436, accuracy: 0.9219:   4%|▍         | 13/316 [00:00<00:04, 63.69it/s]"
     ]
    },
    {
     "name": "stdout",
     "output_type": "stream",
     "text": [
      "Epoch 27: train_acc_0.8972_train_loss_0.2691_val_acc_0.8757_val_loss_0.3375 epoch time 5.7980 seconds\n"
     ]
    },
    {
     "name": "stderr",
     "output_type": "stream",
     "text": [
      "loss: 0.3423, accuracy: 0.8571: 100%|██████████| 316/316 [00:04<00:00, 64.85it/s]\n",
      "loss: 0.4166, accuracy: 0.8167: 100%|██████████| 158/158 [00:00<00:00, 160.78it/s]\n",
      "loss: 0.1783, accuracy: 0.9531:   4%|▍         | 13/316 [00:00<00:04, 66.65it/s]"
     ]
    },
    {
     "name": "stdout",
     "output_type": "stream",
     "text": [
      "Epoch 28: train_acc_0.8986_train_loss_0.2650_val_acc_0.8723_val_loss_0.3383 epoch time 5.8615 seconds\n"
     ]
    },
    {
     "name": "stderr",
     "output_type": "stream",
     "text": [
      "loss: 0.2238, accuracy: 0.9107: 100%|██████████| 316/316 [00:04<00:00, 65.90it/s]\n",
      "loss: 0.2305, accuracy: 0.9167: 100%|██████████| 158/158 [00:00<00:00, 161.48it/s]\n",
      "loss: 0.2130, accuracy: 0.9062:   4%|▍         | 12/316 [00:00<00:04, 66.38it/s]"
     ]
    },
    {
     "name": "stdout",
     "output_type": "stream",
     "text": [
      "Epoch 29: train_acc_0.8995_train_loss_0.2629_val_acc_0.8894_val_loss_0.2933 epoch time 5.7789 seconds\n"
     ]
    },
    {
     "name": "stderr",
     "output_type": "stream",
     "text": [
      "loss: 0.4915, accuracy: 0.8214: 100%|██████████| 316/316 [00:04<00:00, 64.87it/s]\n",
      "loss: 0.2878, accuracy: 0.9000: 100%|██████████| 158/158 [00:01<00:00, 144.22it/s]\n",
      "loss: 0.2554, accuracy: 0.9062:   4%|▍         | 13/316 [00:00<00:04, 64.42it/s]"
     ]
    },
    {
     "name": "stdout",
     "output_type": "stream",
     "text": [
      "Epoch 30: train_acc_0.9009_train_loss_0.2589_val_acc_0.8761_val_loss_0.3448 epoch time 5.9712 seconds\n"
     ]
    },
    {
     "name": "stderr",
     "output_type": "stream",
     "text": [
      "loss: 0.3039, accuracy: 0.9286: 100%|██████████| 316/316 [00:04<00:00, 66.39it/s]\n",
      "loss: 0.2964, accuracy: 0.8667: 100%|██████████| 158/158 [00:00<00:00, 161.35it/s]\n",
      "loss: 0.4234, accuracy: 0.8594:   4%|▍         | 13/316 [00:00<00:04, 66.20it/s]"
     ]
    },
    {
     "name": "stdout",
     "output_type": "stream",
     "text": [
      "Epoch 31: train_acc_0.9012_train_loss_0.2608_val_acc_0.8926_val_loss_0.2894 epoch time 5.7442 seconds\n"
     ]
    },
    {
     "name": "stderr",
     "output_type": "stream",
     "text": [
      "loss: 0.3489, accuracy: 0.8750: 100%|██████████| 316/316 [00:04<00:00, 65.65it/s]\n",
      "loss: 0.3140, accuracy: 0.8667: 100%|██████████| 158/158 [00:00<00:00, 161.98it/s]\n",
      "loss: 0.2677, accuracy: 0.8906:   4%|▍         | 12/316 [00:00<00:04, 64.18it/s]"
     ]
    },
    {
     "name": "stdout",
     "output_type": "stream",
     "text": [
      "Epoch 32: train_acc_0.8967_train_loss_0.2683_val_acc_0.8767_val_loss_0.3160 epoch time 5.7942 seconds\n"
     ]
    },
    {
     "name": "stderr",
     "output_type": "stream",
     "text": [
      "loss: 0.1919, accuracy: 0.9286: 100%|██████████| 316/316 [00:04<00:00, 63.69it/s]\n",
      "loss: 0.5497, accuracy: 0.8333: 100%|██████████| 158/158 [00:01<00:00, 157.67it/s]\n",
      "loss: 0.3847, accuracy: 0.8125:   4%|▍         | 12/316 [00:00<00:04, 65.89it/s]"
     ]
    },
    {
     "name": "stdout",
     "output_type": "stream",
     "text": [
      "Epoch 33: train_acc_0.8987_train_loss_0.2617_val_acc_0.8584_val_loss_0.3776 epoch time 5.9695 seconds\n"
     ]
    },
    {
     "name": "stderr",
     "output_type": "stream",
     "text": [
      "loss: 0.2506, accuracy: 0.9107: 100%|██████████| 316/316 [00:04<00:00, 65.37it/s]\n",
      "loss: 0.2655, accuracy: 0.8500: 100%|██████████| 158/158 [00:00<00:00, 161.49it/s]\n",
      "loss: 0.3379, accuracy: 0.9062:   4%|▍         | 12/316 [00:00<00:04, 66.27it/s]"
     ]
    },
    {
     "name": "stdout",
     "output_type": "stream",
     "text": [
      "Epoch 34: train_acc_0.8992_train_loss_0.2613_val_acc_0.8717_val_loss_0.3379 epoch time 5.8172 seconds\n"
     ]
    },
    {
     "name": "stderr",
     "output_type": "stream",
     "text": [
      "loss: 0.2404, accuracy: 0.8571: 100%|██████████| 316/316 [00:04<00:00, 66.11it/s]\n",
      "loss: 0.1986, accuracy: 0.9333: 100%|██████████| 158/158 [00:00<00:00, 164.45it/s]\n",
      "loss: 0.2100, accuracy: 0.9531:   4%|▍         | 12/316 [00:00<00:04, 67.08it/s]"
     ]
    },
    {
     "name": "stdout",
     "output_type": "stream",
     "text": [
      "Epoch 35: train_acc_0.9019_train_loss_0.2536_val_acc_0.8868_val_loss_0.2919 epoch time 5.7455 seconds\n"
     ]
    },
    {
     "name": "stderr",
     "output_type": "stream",
     "text": [
      "loss: 0.3150, accuracy: 0.8929: 100%|██████████| 316/316 [00:04<00:00, 64.12it/s]\n",
      "loss: 0.3631, accuracy: 0.8667: 100%|██████████| 158/158 [00:01<00:00, 147.81it/s]\n",
      "loss: 0.1512, accuracy: 0.9531:   4%|▍         | 12/316 [00:00<00:04, 66.96it/s]"
     ]
    },
    {
     "name": "stdout",
     "output_type": "stream",
     "text": [
      "Epoch 36: train_acc_0.9074_train_loss_0.2405_val_acc_0.8945_val_loss_0.2836 epoch time 6.0031 seconds\n"
     ]
    },
    {
     "name": "stderr",
     "output_type": "stream",
     "text": [
      "loss: 0.1962, accuracy: 0.9643: 100%|██████████| 316/316 [00:04<00:00, 64.48it/s]\n",
      "loss: 0.4826, accuracy: 0.8667: 100%|██████████| 158/158 [00:00<00:00, 159.02it/s]\n",
      "loss: 0.2032, accuracy: 0.9219:   4%|▍         | 13/316 [00:00<00:04, 65.67it/s]"
     ]
    },
    {
     "name": "stdout",
     "output_type": "stream",
     "text": [
      "Epoch 37: train_acc_0.9076_train_loss_0.2409_val_acc_0.8842_val_loss_0.3132 epoch time 5.8992 seconds\n"
     ]
    },
    {
     "name": "stderr",
     "output_type": "stream",
     "text": [
      "loss: 0.2455, accuracy: 0.9107: 100%|██████████| 316/316 [00:04<00:00, 65.10it/s]\n",
      "loss: 0.3729, accuracy: 0.8500: 100%|██████████| 158/158 [00:01<00:00, 156.29it/s]\n",
      "loss: 0.2728, accuracy: 0.9219:   4%|▍         | 12/316 [00:00<00:04, 65.54it/s]"
     ]
    },
    {
     "name": "stdout",
     "output_type": "stream",
     "text": [
      "Epoch 38: train_acc_0.9122_train_loss_0.2281_val_acc_0.8876_val_loss_0.3079 epoch time 5.8724 seconds\n"
     ]
    },
    {
     "name": "stderr",
     "output_type": "stream",
     "text": [
      "loss: 0.4503, accuracy: 0.8750: 100%|██████████| 316/316 [00:04<00:00, 64.32it/s]\n",
      "loss: 0.5822, accuracy: 0.8500: 100%|██████████| 158/158 [00:01<00:00, 157.19it/s]\n",
      "loss: 0.4540, accuracy: 0.8438:   4%|▍         | 12/316 [00:00<00:04, 64.96it/s]"
     ]
    },
    {
     "name": "stdout",
     "output_type": "stream",
     "text": [
      "Epoch 39: train_acc_0.9086_train_loss_0.2355_val_acc_0.8880_val_loss_0.3091 epoch time 5.9237 seconds\n"
     ]
    },
    {
     "name": "stderr",
     "output_type": "stream",
     "text": [
      "loss: 0.2954, accuracy: 0.8929: 100%|██████████| 316/316 [00:04<00:00, 64.60it/s]\n",
      "loss: 0.3489, accuracy: 0.8833: 100%|██████████| 158/158 [00:01<00:00, 155.56it/s]\n",
      "loss: 0.2038, accuracy: 0.9219:   4%|▍         | 12/316 [00:00<00:04, 64.40it/s]"
     ]
    },
    {
     "name": "stdout",
     "output_type": "stream",
     "text": [
      "Epoch 40: train_acc_0.9111_train_loss_0.2310_val_acc_0.8961_val_loss_0.2874 epoch time 5.9133 seconds\n"
     ]
    },
    {
     "name": "stderr",
     "output_type": "stream",
     "text": [
      "loss: 0.2299, accuracy: 0.8929: 100%|██████████| 316/316 [00:04<00:00, 64.44it/s]\n",
      "loss: 0.2583, accuracy: 0.8667: 100%|██████████| 158/158 [00:01<00:00, 138.91it/s]\n",
      "loss: 0.2067, accuracy: 0.9375:   4%|▍         | 13/316 [00:00<00:04, 65.84it/s]"
     ]
    },
    {
     "name": "stdout",
     "output_type": "stream",
     "text": [
      "Epoch 41: train_acc_0.9130_train_loss_0.2313_val_acc_0.8902_val_loss_0.2868 epoch time 6.0468 seconds\n"
     ]
    },
    {
     "name": "stderr",
     "output_type": "stream",
     "text": [
      "loss: 0.3247, accuracy: 0.8393: 100%|██████████| 316/316 [00:04<00:00, 64.94it/s]\n",
      "loss: 0.3180, accuracy: 0.9000: 100%|██████████| 158/158 [00:01<00:00, 156.52it/s]\n",
      "loss: 0.2266, accuracy: 0.9219:   4%|▍         | 12/316 [00:00<00:04, 61.90it/s]"
     ]
    },
    {
     "name": "stdout",
     "output_type": "stream",
     "text": [
      "Epoch 42: train_acc_0.9165_train_loss_0.2195_val_acc_0.8801_val_loss_0.3225 epoch time 5.8802 seconds\n"
     ]
    },
    {
     "name": "stderr",
     "output_type": "stream",
     "text": [
      "loss: 0.2142, accuracy: 0.8929: 100%|██████████| 316/316 [00:04<00:00, 65.47it/s]\n",
      "loss: 0.2244, accuracy: 0.9000: 100%|██████████| 158/158 [00:01<00:00, 155.85it/s]\n",
      "loss: 0.2353, accuracy: 0.9219:   4%|▍         | 12/316 [00:00<00:04, 66.29it/s]"
     ]
    },
    {
     "name": "stdout",
     "output_type": "stream",
     "text": [
      "Epoch 43: train_acc_0.9142_train_loss_0.2209_val_acc_0.8664_val_loss_0.3795 epoch time 5.8456 seconds\n"
     ]
    },
    {
     "name": "stderr",
     "output_type": "stream",
     "text": [
      "loss: 0.2836, accuracy: 0.9464: 100%|██████████| 316/316 [00:04<00:00, 64.17it/s]\n",
      "loss: 0.5023, accuracy: 0.7667: 100%|██████████| 158/158 [00:00<00:00, 159.60it/s]\n",
      "loss: 0.1238, accuracy: 0.9531:   4%|▍         | 12/316 [00:00<00:04, 62.44it/s]"
     ]
    },
    {
     "name": "stdout",
     "output_type": "stream",
     "text": [
      "Epoch 44: train_acc_0.9170_train_loss_0.2178_val_acc_0.8928_val_loss_0.2870 epoch time 5.9203 seconds\n"
     ]
    },
    {
     "name": "stderr",
     "output_type": "stream",
     "text": [
      "loss: 0.3059, accuracy: 0.8571: 100%|██████████| 316/316 [00:04<00:00, 65.64it/s]\n",
      "loss: 0.2470, accuracy: 0.8667: 100%|██████████| 158/158 [00:00<00:00, 158.98it/s]\n",
      "loss: 0.1915, accuracy: 0.9531:   4%|▍         | 12/316 [00:00<00:04, 62.01it/s]"
     ]
    },
    {
     "name": "stdout",
     "output_type": "stream",
     "text": [
      "Epoch 45: train_acc_0.9051_train_loss_0.2449_val_acc_0.8728_val_loss_0.3651 epoch time 5.8132 seconds\n"
     ]
    },
    {
     "name": "stderr",
     "output_type": "stream",
     "text": [
      "loss: 0.2319, accuracy: 0.8929: 100%|██████████| 316/316 [00:04<00:00, 64.55it/s]\n",
      "loss: 0.2425, accuracy: 0.8833: 100%|██████████| 158/158 [00:00<00:00, 159.81it/s]\n",
      "loss: 0.2773, accuracy: 0.9219:   4%|▍         | 12/316 [00:00<00:04, 65.55it/s]"
     ]
    },
    {
     "name": "stdout",
     "output_type": "stream",
     "text": [
      "Epoch 46: train_acc_0.9031_train_loss_0.2494_val_acc_0.8697_val_loss_0.3354 epoch time 5.8899 seconds\n"
     ]
    },
    {
     "name": "stderr",
     "output_type": "stream",
     "text": [
      "loss: 0.2128, accuracy: 0.8929: 100%|██████████| 316/316 [00:04<00:00, 64.69it/s]\n",
      "loss: 0.4295, accuracy: 0.8333: 100%|██████████| 158/158 [00:00<00:00, 160.93it/s]\n",
      "loss: 0.4145, accuracy: 0.8594:   4%|▍         | 12/316 [00:00<00:04, 63.74it/s]"
     ]
    },
    {
     "name": "stdout",
     "output_type": "stream",
     "text": [
      "Epoch 47: train_acc_0.9048_train_loss_0.2437_val_acc_0.8798_val_loss_0.3311 epoch time 5.8718 seconds\n"
     ]
    },
    {
     "name": "stderr",
     "output_type": "stream",
     "text": [
      "loss: 0.4160, accuracy: 0.8929: 100%|██████████| 316/316 [00:04<00:00, 64.95it/s]\n",
      "loss: 0.2341, accuracy: 0.8833: 100%|██████████| 158/158 [00:00<00:00, 163.63it/s]\n",
      "loss: 0.2019, accuracy: 0.9531:   4%|▍         | 13/316 [00:00<00:04, 65.59it/s]"
     ]
    },
    {
     "name": "stdout",
     "output_type": "stream",
     "text": [
      "Epoch 48: train_acc_0.9124_train_loss_0.2307_val_acc_0.8781_val_loss_0.3235 epoch time 5.8364 seconds\n"
     ]
    },
    {
     "name": "stderr",
     "output_type": "stream",
     "text": [
      "loss: 0.3018, accuracy: 0.8571: 100%|██████████| 316/316 [00:04<00:00, 65.92it/s]\n",
      "loss: 0.3603, accuracy: 0.8667: 100%|██████████| 158/158 [00:00<00:00, 160.47it/s]\n",
      "loss: 0.3203, accuracy: 0.8594:   3%|▎         | 10/316 [00:00<00:04, 66.86it/s]"
     ]
    },
    {
     "name": "stdout",
     "output_type": "stream",
     "text": [
      "Epoch 49: train_acc_0.9046_train_loss_0.2511_val_acc_0.8558_val_loss_0.3861 epoch time 5.7828 seconds\n"
     ]
    },
    {
     "name": "stderr",
     "output_type": "stream",
     "text": [
      "loss: 0.2990, accuracy: 0.9107: 100%|██████████| 316/316 [00:04<00:00, 63.98it/s]\n",
      "loss: 0.3483, accuracy: 0.8833: 100%|██████████| 158/158 [00:00<00:00, 161.97it/s]\n",
      "loss: 0.3087, accuracy: 0.8438:   4%|▍         | 12/316 [00:00<00:04, 63.90it/s]"
     ]
    },
    {
     "name": "stdout",
     "output_type": "stream",
     "text": [
      "Epoch 50: train_acc_0.8968_train_loss_0.2623_val_acc_0.8779_val_loss_0.3365 epoch time 5.9214 seconds\n"
     ]
    },
    {
     "name": "stderr",
     "output_type": "stream",
     "text": [
      "loss: 0.2016, accuracy: 0.9286: 100%|██████████| 316/316 [00:04<00:00, 65.07it/s]\n",
      "loss: 0.1689, accuracy: 0.9000: 100%|██████████| 158/158 [00:00<00:00, 161.77it/s]\n",
      "loss: 0.2863, accuracy: 0.8750:   4%|▍         | 12/316 [00:00<00:04, 63.53it/s]"
     ]
    },
    {
     "name": "stdout",
     "output_type": "stream",
     "text": [
      "Epoch 51: train_acc_0.9035_train_loss_0.2506_val_acc_0.8810_val_loss_0.3262 epoch time 5.8379 seconds\n"
     ]
    },
    {
     "name": "stderr",
     "output_type": "stream",
     "text": [
      "loss: 0.2700, accuracy: 0.8750: 100%|██████████| 316/316 [00:04<00:00, 65.23it/s]\n",
      "loss: 0.3007, accuracy: 0.9167: 100%|██████████| 158/158 [00:00<00:00, 160.67it/s]\n",
      "loss: 0.3009, accuracy: 0.8750:   4%|▍         | 13/316 [00:00<00:04, 64.49it/s]"
     ]
    },
    {
     "name": "stdout",
     "output_type": "stream",
     "text": [
      "Epoch 52: train_acc_0.9024_train_loss_0.2478_val_acc_0.8695_val_loss_0.3489 epoch time 5.8325 seconds\n"
     ]
    },
    {
     "name": "stderr",
     "output_type": "stream",
     "text": [
      "loss: 0.2718, accuracy: 0.8750: 100%|██████████| 316/316 [00:04<00:00, 65.98it/s]\n",
      "loss: 0.4062, accuracy: 0.8833: 100%|██████████| 158/158 [00:00<00:00, 158.30it/s]\n",
      "loss: 0.2832, accuracy: 0.9062:   4%|▍         | 13/316 [00:00<00:04, 68.34it/s]"
     ]
    },
    {
     "name": "stdout",
     "output_type": "stream",
     "text": [
      "Epoch 53: train_acc_0.9052_train_loss_0.2462_val_acc_0.8799_val_loss_0.3262 epoch time 5.7931 seconds\n"
     ]
    },
    {
     "name": "stderr",
     "output_type": "stream",
     "text": [
      "loss: 0.3127, accuracy: 0.8750: 100%|██████████| 316/316 [00:04<00:00, 68.66it/s]\n",
      "loss: 0.2635, accuracy: 0.9000: 100%|██████████| 158/158 [00:00<00:00, 174.91it/s]\n",
      "loss: 0.3234, accuracy: 0.8750:   4%|▍         | 13/316 [00:00<00:04, 70.74it/s]"
     ]
    },
    {
     "name": "stdout",
     "output_type": "stream",
     "text": [
      "Epoch 54: train_acc_0.9106_train_loss_0.2324_val_acc_0.8865_val_loss_0.3131 epoch time 5.5123 seconds\n"
     ]
    },
    {
     "name": "stderr",
     "output_type": "stream",
     "text": [
      "loss: 0.1472, accuracy: 0.9286: 100%|██████████| 316/316 [00:04<00:00, 68.89it/s]\n",
      "loss: 0.2381, accuracy: 0.9333: 100%|██████████| 158/158 [00:00<00:00, 174.47it/s]\n",
      "loss: 0.2269, accuracy: 0.8750:   4%|▍         | 14/316 [00:00<00:04, 68.58it/s]"
     ]
    },
    {
     "name": "stdout",
     "output_type": "stream",
     "text": [
      "Epoch 55: train_acc_0.9104_train_loss_0.2303_val_acc_0.8856_val_loss_0.3018 epoch time 5.4992 seconds\n"
     ]
    },
    {
     "name": "stderr",
     "output_type": "stream",
     "text": [
      "loss: 0.3465, accuracy: 0.8929: 100%|██████████| 316/316 [00:04<00:00, 73.98it/s]\n",
      "loss: 0.2609, accuracy: 0.8833: 100%|██████████| 158/158 [00:00<00:00, 181.76it/s]\n",
      "loss: 0.1489, accuracy: 0.9219:   4%|▍         | 14/316 [00:00<00:03, 76.13it/s]"
     ]
    },
    {
     "name": "stdout",
     "output_type": "stream",
     "text": [
      "Epoch 56: train_acc_0.9118_train_loss_0.2253_val_acc_0.8718_val_loss_0.3458 epoch time 5.1475 seconds\n"
     ]
    },
    {
     "name": "stderr",
     "output_type": "stream",
     "text": [
      "loss: 0.3468, accuracy: 0.8929: 100%|██████████| 316/316 [00:04<00:00, 77.27it/s]\n",
      "loss: 0.3115, accuracy: 0.8833: 100%|██████████| 158/158 [00:00<00:00, 176.77it/s]\n",
      "loss: 0.1608, accuracy: 0.9688:   4%|▍         | 14/316 [00:00<00:03, 76.03it/s]"
     ]
    },
    {
     "name": "stdout",
     "output_type": "stream",
     "text": [
      "Epoch 57: train_acc_0.9167_train_loss_0.2144_val_acc_0.8878_val_loss_0.3170 epoch time 4.9882 seconds\n"
     ]
    },
    {
     "name": "stderr",
     "output_type": "stream",
     "text": [
      "loss: 0.2056, accuracy: 0.9107: 100%|██████████| 316/316 [00:04<00:00, 74.36it/s]\n",
      "loss: 0.4574, accuracy: 0.8333: 100%|██████████| 158/158 [00:00<00:00, 181.76it/s]\n",
      "loss: 0.0942, accuracy: 0.9688:   4%|▍         | 14/316 [00:00<00:04, 74.34it/s]"
     ]
    },
    {
     "name": "stdout",
     "output_type": "stream",
     "text": [
      "Epoch 58: train_acc_0.9078_train_loss_0.2433_val_acc_0.8564_val_loss_0.3954 epoch time 5.1259 seconds\n"
     ]
    },
    {
     "name": "stderr",
     "output_type": "stream",
     "text": [
      "loss: 0.3529, accuracy: 0.8571: 100%|██████████| 316/316 [00:04<00:00, 75.98it/s]\n",
      "loss: 0.1826, accuracy: 0.9167: 100%|██████████| 158/158 [00:00<00:00, 180.55it/s]\n",
      "loss: 0.2563, accuracy: 0.9062:   4%|▍         | 14/316 [00:00<00:03, 77.98it/s]"
     ]
    },
    {
     "name": "stdout",
     "output_type": "stream",
     "text": [
      "Epoch 59: train_acc_0.9138_train_loss_0.2267_val_acc_0.8848_val_loss_0.3005 epoch time 5.0397 seconds\n"
     ]
    },
    {
     "name": "stderr",
     "output_type": "stream",
     "text": [
      "loss: 0.3756, accuracy: 0.8393: 100%|██████████| 316/316 [00:04<00:00, 75.54it/s]\n",
      "loss: 0.3066, accuracy: 0.9000: 100%|██████████| 158/158 [00:00<00:00, 179.25it/s]\n",
      "loss: 0.2631, accuracy: 0.8906:   4%|▍         | 14/316 [00:00<00:04, 72.32it/s]"
     ]
    },
    {
     "name": "stdout",
     "output_type": "stream",
     "text": [
      "Epoch 60: train_acc_0.9139_train_loss_0.2215_val_acc_0.8853_val_loss_0.3082 epoch time 5.0723 seconds\n"
     ]
    },
    {
     "name": "stderr",
     "output_type": "stream",
     "text": [
      "loss: 0.1796, accuracy: 0.9107: 100%|██████████| 316/316 [00:04<00:00, 74.38it/s]\n",
      "loss: 0.4108, accuracy: 0.8500: 100%|██████████| 158/158 [00:01<00:00, 150.99it/s]\n",
      "loss: 0.2200, accuracy: 0.9219:   4%|▍         | 14/316 [00:00<00:04, 71.55it/s]"
     ]
    },
    {
     "name": "stdout",
     "output_type": "stream",
     "text": [
      "Epoch 61: train_acc_0.9156_train_loss_0.2160_val_acc_0.8873_val_loss_0.3056 epoch time 5.3023 seconds\n"
     ]
    },
    {
     "name": "stderr",
     "output_type": "stream",
     "text": [
      "loss: 0.1557, accuracy: 0.9107: 100%|██████████| 316/316 [00:04<00:00, 75.46it/s]\n",
      "loss: 0.2524, accuracy: 0.9000: 100%|██████████| 158/158 [00:00<00:00, 180.97it/s]\n",
      "loss: 0.1902, accuracy: 0.9375:   5%|▍         | 15/316 [00:00<00:03, 76.71it/s]"
     ]
    },
    {
     "name": "stdout",
     "output_type": "stream",
     "text": [
      "Epoch 62: train_acc_0.9260_train_loss_0.1966_val_acc_0.8858_val_loss_0.3178 epoch time 5.0661 seconds\n"
     ]
    },
    {
     "name": "stderr",
     "output_type": "stream",
     "text": [
      "loss: 0.1498, accuracy: 0.9286: 100%|██████████| 316/316 [00:04<00:00, 76.31it/s]\n",
      "loss: 0.2310, accuracy: 0.9333: 100%|██████████| 158/158 [00:00<00:00, 180.89it/s]\n",
      "loss: 0.2280, accuracy: 0.9062:   4%|▍         | 14/316 [00:00<00:03, 75.94it/s]"
     ]
    },
    {
     "name": "stdout",
     "output_type": "stream",
     "text": [
      "Epoch 63: train_acc_0.9244_train_loss_0.1977_val_acc_0.8864_val_loss_0.3285 epoch time 5.0198 seconds\n"
     ]
    },
    {
     "name": "stderr",
     "output_type": "stream",
     "text": [
      "loss: 0.1423, accuracy: 0.8929: 100%|██████████| 316/316 [00:04<00:00, 76.28it/s]\n",
      "loss: 0.3888, accuracy: 0.8667: 100%|██████████| 158/158 [00:00<00:00, 161.70it/s]\n",
      "loss: 0.1919, accuracy: 0.9219:   4%|▍         | 14/316 [00:00<00:04, 74.21it/s]"
     ]
    },
    {
     "name": "stdout",
     "output_type": "stream",
     "text": [
      "Epoch 64: train_acc_0.9165_train_loss_0.2161_val_acc_0.8873_val_loss_0.3043 epoch time 5.1259 seconds\n"
     ]
    },
    {
     "name": "stderr",
     "output_type": "stream",
     "text": [
      "loss: 0.3244, accuracy: 0.8750: 100%|██████████| 316/316 [00:04<00:00, 76.46it/s]\n",
      "loss: 0.4226, accuracy: 0.8667: 100%|██████████| 158/158 [00:00<00:00, 178.28it/s]\n",
      "loss: 0.2055, accuracy: 0.9375:   5%|▍         | 15/316 [00:00<00:03, 78.77it/s]"
     ]
    },
    {
     "name": "stdout",
     "output_type": "stream",
     "text": [
      "Epoch 65: train_acc_0.9268_train_loss_0.1955_val_acc_0.8912_val_loss_0.3105 epoch time 5.0259 seconds\n"
     ]
    },
    {
     "name": "stderr",
     "output_type": "stream",
     "text": [
      "loss: 0.1295, accuracy: 0.9286: 100%|██████████| 316/316 [00:04<00:00, 76.53it/s]\n",
      "loss: 0.4071, accuracy: 0.9000: 100%|██████████| 158/158 [00:00<00:00, 180.95it/s]\n",
      "loss: 0.1649, accuracy: 0.9531:   5%|▍         | 15/316 [00:00<00:03, 78.68it/s]"
     ]
    },
    {
     "name": "stdout",
     "output_type": "stream",
     "text": [
      "Epoch 66: train_acc_0.9233_train_loss_0.1960_val_acc_0.8825_val_loss_0.3254 epoch time 5.0081 seconds\n"
     ]
    },
    {
     "name": "stderr",
     "output_type": "stream",
     "text": [
      "loss: 0.1636, accuracy: 0.9643: 100%|██████████| 316/316 [00:04<00:00, 76.22it/s]\n",
      "loss: 0.6816, accuracy: 0.8167: 100%|██████████| 158/158 [00:00<00:00, 177.66it/s]\n",
      "loss: 0.1240, accuracy: 0.9375:   5%|▍         | 15/316 [00:00<00:03, 77.42it/s]"
     ]
    },
    {
     "name": "stdout",
     "output_type": "stream",
     "text": [
      "Epoch 67: train_acc_0.9278_train_loss_0.1907_val_acc_0.8835_val_loss_0.3207 epoch time 5.0420 seconds\n"
     ]
    },
    {
     "name": "stderr",
     "output_type": "stream",
     "text": [
      "loss: 0.1638, accuracy: 0.9464: 100%|██████████| 316/316 [00:04<00:00, 75.16it/s]\n",
      "loss: 0.2488, accuracy: 0.9333: 100%|██████████| 158/158 [00:00<00:00, 164.46it/s]\n",
      "loss: 0.1128, accuracy: 0.9531:   4%|▍         | 13/316 [00:00<00:04, 66.41it/s]"
     ]
    },
    {
     "name": "stdout",
     "output_type": "stream",
     "text": [
      "Epoch 68: train_acc_0.9265_train_loss_0.1910_val_acc_0.8846_val_loss_0.3276 epoch time 5.1710 seconds\n"
     ]
    },
    {
     "name": "stderr",
     "output_type": "stream",
     "text": [
      "loss: 0.3571, accuracy: 0.8929: 100%|██████████| 316/316 [00:04<00:00, 74.36it/s]\n",
      "loss: 0.3246, accuracy: 0.8833: 100%|██████████| 158/158 [00:00<00:00, 169.70it/s]\n",
      "loss: 0.1539, accuracy: 0.9375:   4%|▍         | 14/316 [00:00<00:03, 75.80it/s]"
     ]
    },
    {
     "name": "stdout",
     "output_type": "stream",
     "text": [
      "Epoch 69: train_acc_0.9249_train_loss_0.1966_val_acc_0.8786_val_loss_0.3422 epoch time 5.1864 seconds\n"
     ]
    },
    {
     "name": "stderr",
     "output_type": "stream",
     "text": [
      "loss: 0.1768, accuracy: 0.9286: 100%|██████████| 316/316 [00:04<00:00, 74.88it/s]\n",
      "loss: 0.4245, accuracy: 0.8500: 100%|██████████| 158/158 [00:00<00:00, 169.71it/s]\n",
      "loss: 0.1655, accuracy: 0.9531:   4%|▍         | 14/316 [00:00<00:03, 77.12it/s]"
     ]
    },
    {
     "name": "stdout",
     "output_type": "stream",
     "text": [
      "Epoch 70: train_acc_0.9251_train_loss_0.1963_val_acc_0.8846_val_loss_0.3351 epoch time 5.1579 seconds\n"
     ]
    },
    {
     "name": "stderr",
     "output_type": "stream",
     "text": [
      "loss: 0.3467, accuracy: 0.9107: 100%|██████████| 316/316 [00:04<00:00, 74.07it/s]\n",
      "loss: 0.3237, accuracy: 0.8833: 100%|██████████| 158/158 [00:00<00:00, 166.64it/s]\n",
      "loss: 0.2753, accuracy: 0.9219:   5%|▍         | 15/316 [00:00<00:04, 72.55it/s]"
     ]
    },
    {
     "name": "stdout",
     "output_type": "stream",
     "text": [
      "Epoch 71: train_acc_0.9233_train_loss_0.1978_val_acc_0.8739_val_loss_0.3558 epoch time 5.2186 seconds\n"
     ]
    },
    {
     "name": "stderr",
     "output_type": "stream",
     "text": [
      "loss: 0.0715, accuracy: 0.9643: 100%|██████████| 316/316 [00:04<00:00, 77.77it/s]\n",
      "loss: 0.2136, accuracy: 0.9333: 100%|██████████| 158/158 [00:00<00:00, 181.23it/s]\n",
      "loss: 0.1318, accuracy: 0.9531:   5%|▍         | 15/316 [00:00<00:03, 76.41it/s]"
     ]
    },
    {
     "name": "stdout",
     "output_type": "stream",
     "text": [
      "Epoch 72: train_acc_0.9270_train_loss_0.1880_val_acc_0.8894_val_loss_0.3256 epoch time 4.9408 seconds\n"
     ]
    },
    {
     "name": "stderr",
     "output_type": "stream",
     "text": [
      "loss: 0.3734, accuracy: 0.8571: 100%|██████████| 316/316 [00:04<00:00, 78.69it/s]\n",
      "loss: 0.1995, accuracy: 0.9667: 100%|██████████| 158/158 [00:00<00:00, 183.53it/s]\n",
      "loss: 0.2708, accuracy: 0.9062:   5%|▌         | 16/316 [00:00<00:03, 80.55it/s]"
     ]
    },
    {
     "name": "stdout",
     "output_type": "stream",
     "text": [
      "Epoch 73: train_acc_0.9262_train_loss_0.1855_val_acc_0.8759_val_loss_0.3770 epoch time 4.8822 seconds\n"
     ]
    },
    {
     "name": "stderr",
     "output_type": "stream",
     "text": [
      "loss: 0.1827, accuracy: 0.9286: 100%|██████████| 316/316 [00:04<00:00, 76.80it/s]\n",
      "loss: 0.2554, accuracy: 0.8833: 100%|██████████| 158/158 [00:00<00:00, 185.77it/s]\n",
      "loss: 0.1950, accuracy: 0.9219:   4%|▍         | 14/316 [00:00<00:04, 73.64it/s]"
     ]
    },
    {
     "name": "stdout",
     "output_type": "stream",
     "text": [
      "Epoch 74: train_acc_0.9280_train_loss_0.1844_val_acc_0.8731_val_loss_0.3666 epoch time 4.9705 seconds\n"
     ]
    },
    {
     "name": "stderr",
     "output_type": "stream",
     "text": [
      "loss: 0.1323, accuracy: 0.9643: 100%|██████████| 316/316 [00:04<00:00, 78.72it/s]\n",
      "loss: 0.3828, accuracy: 0.8167: 100%|██████████| 158/158 [00:00<00:00, 184.31it/s]\n",
      "loss: 0.1814, accuracy: 0.9375:   5%|▌         | 16/316 [00:00<00:03, 81.53it/s]"
     ]
    },
    {
     "name": "stdout",
     "output_type": "stream",
     "text": [
      "Epoch 75: train_acc_0.9288_train_loss_0.1860_val_acc_0.8821_val_loss_0.3357 epoch time 4.8765 seconds\n"
     ]
    },
    {
     "name": "stderr",
     "output_type": "stream",
     "text": [
      "loss: 0.2446, accuracy: 0.8571: 100%|██████████| 316/316 [00:03<00:00, 79.16it/s]\n",
      "loss: 0.1933, accuracy: 0.9000: 100%|██████████| 158/158 [00:00<00:00, 184.92it/s]\n",
      "loss: 0.2237, accuracy: 0.8906:   5%|▍         | 15/316 [00:00<00:03, 76.90it/s]"
     ]
    },
    {
     "name": "stdout",
     "output_type": "stream",
     "text": [
      "Epoch 76: train_acc_0.9284_train_loss_0.1871_val_acc_0.8850_val_loss_0.3443 epoch time 4.8521 seconds\n"
     ]
    },
    {
     "name": "stderr",
     "output_type": "stream",
     "text": [
      "loss: 0.1356, accuracy: 0.9464: 100%|██████████| 316/316 [00:04<00:00, 77.20it/s]\n",
      "loss: 0.3832, accuracy: 0.9167: 100%|██████████| 158/158 [00:00<00:00, 182.10it/s]\n",
      "loss: 0.1205, accuracy: 0.9688:   5%|▍         | 15/316 [00:00<00:04, 74.89it/s]"
     ]
    },
    {
     "name": "stdout",
     "output_type": "stream",
     "text": [
      "Epoch 77: train_acc_0.9323_train_loss_0.1752_val_acc_0.8793_val_loss_0.3490 epoch time 4.9657 seconds\n"
     ]
    },
    {
     "name": "stderr",
     "output_type": "stream",
     "text": [
      "loss: 0.2993, accuracy: 0.9107: 100%|██████████| 316/316 [00:03<00:00, 79.07it/s]\n",
      "loss: 0.5523, accuracy: 0.8333: 100%|██████████| 158/158 [00:00<00:00, 182.67it/s]\n",
      "loss: 0.1868, accuracy: 0.9375:   5%|▍         | 15/316 [00:00<00:03, 80.26it/s]"
     ]
    },
    {
     "name": "stdout",
     "output_type": "stream",
     "text": [
      "Epoch 78: train_acc_0.9313_train_loss_0.1819_val_acc_0.8802_val_loss_0.3536 epoch time 4.8664 seconds\n"
     ]
    },
    {
     "name": "stderr",
     "output_type": "stream",
     "text": [
      "loss: 0.1757, accuracy: 0.9464: 100%|██████████| 316/316 [00:04<00:00, 78.87it/s]\n",
      "loss: 0.1387, accuracy: 0.9500: 100%|██████████| 158/158 [00:00<00:00, 182.04it/s]\n",
      "loss: 0.0934, accuracy: 0.9688:   4%|▍         | 14/316 [00:00<00:03, 77.32it/s]"
     ]
    },
    {
     "name": "stdout",
     "output_type": "stream",
     "text": [
      "Epoch 79: train_acc_0.9277_train_loss_0.1887_val_acc_0.8832_val_loss_0.3248 epoch time 4.8794 seconds\n"
     ]
    },
    {
     "name": "stderr",
     "output_type": "stream",
     "text": [
      "loss: 0.1709, accuracy: 0.9107: 100%|██████████| 316/316 [00:03<00:00, 79.02it/s]\n",
      "loss: 0.4190, accuracy: 0.8833: 100%|██████████| 158/158 [00:00<00:00, 159.67it/s]\n",
      "loss: 0.1467, accuracy: 0.9531:   5%|▍         | 15/316 [00:00<00:03, 79.19it/s]"
     ]
    },
    {
     "name": "stdout",
     "output_type": "stream",
     "text": [
      "Epoch 80: train_acc_0.9335_train_loss_0.1739_val_acc_0.8664_val_loss_0.3577 epoch time 4.9936 seconds\n"
     ]
    },
    {
     "name": "stderr",
     "output_type": "stream",
     "text": [
      "loss: 0.2549, accuracy: 0.9107: 100%|██████████| 316/316 [00:03<00:00, 79.57it/s]\n",
      "loss: 0.4373, accuracy: 0.8500: 100%|██████████| 158/158 [00:00<00:00, 185.38it/s]\n",
      "loss: 0.1483, accuracy: 0.9688:   5%|▍         | 15/316 [00:00<00:03, 76.80it/s]"
     ]
    },
    {
     "name": "stdout",
     "output_type": "stream",
     "text": [
      "Epoch 81: train_acc_0.9344_train_loss_0.1709_val_acc_0.8836_val_loss_0.3347 epoch time 4.8297 seconds\n"
     ]
    },
    {
     "name": "stderr",
     "output_type": "stream",
     "text": [
      "loss: 0.0506, accuracy: 0.9821: 100%|██████████| 316/316 [00:04<00:00, 77.93it/s]\n",
      "loss: 0.2186, accuracy: 0.8833: 100%|██████████| 158/158 [00:00<00:00, 186.08it/s]\n",
      "loss: 0.2601, accuracy: 0.9219:   5%|▌         | 16/316 [00:00<00:03, 79.80it/s]"
     ]
    },
    {
     "name": "stdout",
     "output_type": "stream",
     "text": [
      "Epoch 82: train_acc_0.9363_train_loss_0.1646_val_acc_0.8869_val_loss_0.3247 epoch time 4.9086 seconds\n"
     ]
    },
    {
     "name": "stderr",
     "output_type": "stream",
     "text": [
      "loss: 0.3034, accuracy: 0.8750: 100%|██████████| 316/316 [00:04<00:00, 78.85it/s]\n",
      "loss: 0.5056, accuracy: 0.8667: 100%|██████████| 158/158 [00:00<00:00, 179.99it/s]\n",
      "loss: 0.1242, accuracy: 0.9688:   5%|▍         | 15/316 [00:00<00:03, 79.43it/s]"
     ]
    },
    {
     "name": "stdout",
     "output_type": "stream",
     "text": [
      "Epoch 83: train_acc_0.9383_train_loss_0.1581_val_acc_0.8736_val_loss_0.3817 epoch time 4.8914 seconds\n"
     ]
    },
    {
     "name": "stderr",
     "output_type": "stream",
     "text": [
      "loss: 0.1335, accuracy: 0.9643: 100%|██████████| 316/316 [00:04<00:00, 76.17it/s]\n",
      "loss: 0.2683, accuracy: 0.9000: 100%|██████████| 158/158 [00:00<00:00, 183.71it/s]\n",
      "loss: 0.2344, accuracy: 0.8906:   5%|▍         | 15/316 [00:00<00:04, 74.35it/s]"
     ]
    },
    {
     "name": "stdout",
     "output_type": "stream",
     "text": [
      "Epoch 84: train_acc_0.9339_train_loss_0.1738_val_acc_0.8776_val_loss_0.3417 epoch time 5.0139 seconds\n"
     ]
    },
    {
     "name": "stderr",
     "output_type": "stream",
     "text": [
      "loss: 0.1870, accuracy: 0.9107: 100%|██████████| 316/316 [00:04<00:00, 78.38it/s]\n",
      "loss: 0.4171, accuracy: 0.8667: 100%|██████████| 158/158 [00:00<00:00, 181.12it/s]\n",
      "loss: 0.1574, accuracy: 0.9375:   5%|▍         | 15/316 [00:00<00:03, 79.53it/s]"
     ]
    },
    {
     "name": "stdout",
     "output_type": "stream",
     "text": [
      "Epoch 85: train_acc_0.9320_train_loss_0.1755_val_acc_0.8763_val_loss_0.3593 epoch time 4.9104 seconds\n"
     ]
    },
    {
     "name": "stderr",
     "output_type": "stream",
     "text": [
      "loss: 0.2458, accuracy: 0.8750: 100%|██████████| 316/316 [00:04<00:00, 77.81it/s]\n",
      "loss: 0.4224, accuracy: 0.8500: 100%|██████████| 158/158 [00:00<00:00, 187.39it/s]\n",
      "loss: 0.0762, accuracy: 1.0000:   5%|▌         | 16/316 [00:00<00:03, 80.76it/s]"
     ]
    },
    {
     "name": "stdout",
     "output_type": "stream",
     "text": [
      "Epoch 86: train_acc_0.9336_train_loss_0.1692_val_acc_0.8747_val_loss_0.3615 epoch time 4.9113 seconds\n"
     ]
    },
    {
     "name": "stderr",
     "output_type": "stream",
     "text": [
      "loss: 0.2122, accuracy: 0.9286: 100%|██████████| 316/316 [00:04<00:00, 76.38it/s]\n",
      "loss: 0.2262, accuracy: 0.9333: 100%|██████████| 158/158 [00:00<00:00, 184.35it/s]\n",
      "loss: 0.1350, accuracy: 0.9375:   4%|▍         | 14/316 [00:00<00:04, 75.46it/s]"
     ]
    },
    {
     "name": "stdout",
     "output_type": "stream",
     "text": [
      "Epoch 87: train_acc_0.9364_train_loss_0.1621_val_acc_0.8832_val_loss_0.3350 epoch time 4.9995 seconds\n"
     ]
    },
    {
     "name": "stderr",
     "output_type": "stream",
     "text": [
      "loss: 0.1852, accuracy: 0.8929: 100%|██████████| 316/316 [00:04<00:00, 78.76it/s]\n",
      "loss: 0.2534, accuracy: 0.9167: 100%|██████████| 158/158 [00:00<00:00, 179.58it/s]\n",
      "loss: 0.0772, accuracy: 0.9844:   5%|▍         | 15/316 [00:00<00:03, 78.09it/s]"
     ]
    },
    {
     "name": "stdout",
     "output_type": "stream",
     "text": [
      "Epoch 88: train_acc_0.9348_train_loss_0.1656_val_acc_0.8813_val_loss_0.3893 epoch time 4.8972 seconds\n"
     ]
    },
    {
     "name": "stderr",
     "output_type": "stream",
     "text": [
      "loss: 0.1738, accuracy: 0.9107: 100%|██████████| 316/316 [00:04<00:00, 78.92it/s]\n",
      "loss: 0.3712, accuracy: 0.9000: 100%|██████████| 158/158 [00:00<00:00, 180.74it/s]\n",
      "loss: 0.0910, accuracy: 0.9688:   4%|▍         | 14/316 [00:00<00:04, 74.65it/s]"
     ]
    },
    {
     "name": "stdout",
     "output_type": "stream",
     "text": [
      "Epoch 89: train_acc_0.9404_train_loss_0.1582_val_acc_0.8848_val_loss_0.3469 epoch time 4.8837 seconds\n"
     ]
    },
    {
     "name": "stderr",
     "output_type": "stream",
     "text": [
      "loss: 0.1612, accuracy: 0.9464: 100%|██████████| 316/316 [00:04<00:00, 76.57it/s]\n",
      "loss: 0.4702, accuracy: 0.8167: 100%|██████████| 158/158 [00:00<00:00, 180.42it/s]\n",
      "loss: 0.1484, accuracy: 0.9531:   5%|▍         | 15/316 [00:00<00:03, 79.81it/s]"
     ]
    },
    {
     "name": "stdout",
     "output_type": "stream",
     "text": [
      "Epoch 90: train_acc_0.9410_train_loss_0.1533_val_acc_0.8791_val_loss_0.3494 epoch time 5.0086 seconds\n"
     ]
    },
    {
     "name": "stderr",
     "output_type": "stream",
     "text": [
      "loss: 0.1413, accuracy: 0.9643: 100%|██████████| 316/316 [00:04<00:00, 78.48it/s]\n",
      "loss: 0.4486, accuracy: 0.8667: 100%|██████████| 158/158 [00:00<00:00, 182.54it/s]\n",
      "loss: 0.2664, accuracy: 0.8906:   5%|▍         | 15/316 [00:00<00:03, 79.88it/s]"
     ]
    },
    {
     "name": "stdout",
     "output_type": "stream",
     "text": [
      "Epoch 91: train_acc_0.9403_train_loss_0.1563_val_acc_0.8817_val_loss_0.3567 epoch time 4.8969 seconds\n"
     ]
    },
    {
     "name": "stderr",
     "output_type": "stream",
     "text": [
      "loss: 0.2099, accuracy: 0.8750: 100%|██████████| 316/316 [00:04<00:00, 78.76it/s]\n",
      "loss: 0.3173, accuracy: 0.8667: 100%|██████████| 158/158 [00:00<00:00, 179.80it/s]\n",
      "loss: 0.2615, accuracy: 0.8906:   5%|▌         | 16/316 [00:00<00:03, 79.10it/s]"
     ]
    },
    {
     "name": "stdout",
     "output_type": "stream",
     "text": [
      "Epoch 92: train_acc_0.9410_train_loss_0.1517_val_acc_0.8800_val_loss_0.3702 epoch time 4.8970 seconds\n"
     ]
    },
    {
     "name": "stderr",
     "output_type": "stream",
     "text": [
      "loss: 0.2341, accuracy: 0.9286: 100%|██████████| 316/316 [00:04<00:00, 78.76it/s]\n",
      "loss: 0.3384, accuracy: 0.9000: 100%|██████████| 158/158 [00:00<00:00, 158.95it/s]\n",
      "loss: 0.1731, accuracy: 0.9531:   5%|▍         | 15/316 [00:00<00:03, 79.31it/s]"
     ]
    },
    {
     "name": "stdout",
     "output_type": "stream",
     "text": [
      "Epoch 93: train_acc_0.9385_train_loss_0.1596_val_acc_0.8782_val_loss_0.3803 epoch time 5.0124 seconds\n"
     ]
    },
    {
     "name": "stderr",
     "output_type": "stream",
     "text": [
      "loss: 0.1640, accuracy: 0.9286: 100%|██████████| 316/316 [00:03<00:00, 79.59it/s]\n",
      "loss: 0.4134, accuracy: 0.9000: 100%|██████████| 158/158 [00:00<00:00, 186.06it/s]\n",
      "loss: 0.1050, accuracy: 0.9531:   5%|▍         | 15/316 [00:00<00:03, 78.25it/s]"
     ]
    },
    {
     "name": "stdout",
     "output_type": "stream",
     "text": [
      "Epoch 94: train_acc_0.9444_train_loss_0.1446_val_acc_0.8746_val_loss_0.3841 epoch time 4.8261 seconds\n"
     ]
    },
    {
     "name": "stderr",
     "output_type": "stream",
     "text": [
      "loss: 0.1479, accuracy: 0.9286: 100%|██████████| 316/316 [00:03<00:00, 79.11it/s]\n",
      "loss: 0.2524, accuracy: 0.8833: 100%|██████████| 158/158 [00:00<00:00, 183.60it/s]\n",
      "loss: 0.1397, accuracy: 0.9219:   5%|▍         | 15/316 [00:00<00:03, 77.77it/s]"
     ]
    },
    {
     "name": "stdout",
     "output_type": "stream",
     "text": [
      "Epoch 95: train_acc_0.9423_train_loss_0.1493_val_acc_0.8834_val_loss_0.3705 epoch time 4.8599 seconds\n"
     ]
    },
    {
     "name": "stderr",
     "output_type": "stream",
     "text": [
      "loss: 0.3270, accuracy: 0.8929: 100%|██████████| 316/316 [00:03<00:00, 79.38it/s]\n",
      "loss: 0.2706, accuracy: 0.8500: 100%|██████████| 158/158 [00:00<00:00, 174.90it/s]\n",
      "loss: 0.1807, accuracy: 0.9219:   5%|▌         | 16/316 [00:00<00:03, 80.61it/s]"
     ]
    },
    {
     "name": "stdout",
     "output_type": "stream",
     "text": [
      "Epoch 96: train_acc_0.9420_train_loss_0.1473_val_acc_0.8775_val_loss_0.4001 epoch time 4.8900 seconds\n"
     ]
    },
    {
     "name": "stderr",
     "output_type": "stream",
     "text": [
      "loss: 0.3330, accuracy: 0.8929: 100%|██████████| 316/316 [00:04<00:00, 76.94it/s]\n",
      "loss: 0.2058, accuracy: 0.9167: 100%|██████████| 158/158 [00:00<00:00, 183.82it/s]\n",
      "loss: 0.2010, accuracy: 0.9062:   5%|▍         | 15/316 [00:00<00:03, 78.83it/s]"
     ]
    },
    {
     "name": "stdout",
     "output_type": "stream",
     "text": [
      "Epoch 97: train_acc_0.9415_train_loss_0.1552_val_acc_0.8821_val_loss_0.3792 epoch time 4.9715 seconds\n"
     ]
    },
    {
     "name": "stderr",
     "output_type": "stream",
     "text": [
      "loss: 0.1722, accuracy: 0.9286: 100%|██████████| 316/316 [00:03<00:00, 79.54it/s]\n",
      "loss: 0.7976, accuracy: 0.8000: 100%|██████████| 158/158 [00:00<00:00, 176.83it/s]\n",
      "loss: 0.1136, accuracy: 0.9688:   5%|▍         | 15/316 [00:00<00:03, 75.53it/s]"
     ]
    },
    {
     "name": "stdout",
     "output_type": "stream",
     "text": [
      "Epoch 98: train_acc_0.9446_train_loss_0.1453_val_acc_0.8722_val_loss_0.4050 epoch time 4.8721 seconds\n"
     ]
    },
    {
     "name": "stderr",
     "output_type": "stream",
     "text": [
      "loss: 0.0929, accuracy: 0.9643: 100%|██████████| 316/316 [00:04<00:00, 78.40it/s]\n",
      "loss: 0.5835, accuracy: 0.8333: 100%|██████████| 158/158 [00:00<00:00, 183.56it/s]\n"
     ]
    },
    {
     "name": "stdout",
     "output_type": "stream",
     "text": [
      "Epoch 99: train_acc_0.9386_train_loss_0.1580_val_acc_0.8746_val_loss_0.3985 epoch time 4.8969 seconds\n",
      "--- 547.5898749828339 seconds ---\n"
     ]
    }
   ],
   "source": [
    "#define network parameters\n",
    "num_epochs = 100\n",
    "params = {\n",
    "    \"input_shape\": train_dataset[0][0].shape,\n",
    "    \"num_output_classes\" : 4,\n",
    "    \"hidden_size\":100,\n",
    "    \"batch_size\":batch_size,\n",
    "    \"attention\":\"self_attention\",\n",
    "    \"da\":50,\n",
    "    \"r\":1\n",
    "    }\n",
    "\n",
    "gru_self_attention = GRU1D(params)\n",
    "exp_name = \"sn_000000\"\n",
    "experiment = Experiment(\n",
    "    network_model = gru_self_attention,\n",
    "    experiment_name = exp_name,\n",
    "    num_epochs = num_epochs,\n",
    "    learning_rate = lr,\n",
    "    weight_decay_coefficient = wdc,\n",
    "    use_gpu = use_gpu,\n",
    "    train_data = train_loader,\n",
    "    val_data = val_loader\n",
    ")\n",
    "start_time = time.time()\n",
    "experiment.run_experiment()\n",
    "print(\"--- %s seconds ---\" % (time.time() - start_time))"
   ]
  },
  {
   "cell_type": "code",
   "execution_count": null,
   "metadata": {},
   "outputs": [],
   "source": []
  }
 ],
 "metadata": {
  "kernelspec": {
   "display_name": "Python 3",
   "language": "python",
   "name": "python3"
  },
  "language_info": {
   "codemirror_mode": {
    "name": "ipython",
    "version": 3
   },
   "file_extension": ".py",
   "mimetype": "text/x-python",
   "name": "python",
   "nbconvert_exporter": "python",
   "pygments_lexer": "ipython3",
   "version": "3.7.6"
  }
 },
 "nbformat": 4,
 "nbformat_minor": 2
}
