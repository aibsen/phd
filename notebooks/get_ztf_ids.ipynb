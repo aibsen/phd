{
 "cells": [
  {
   "cell_type": "code",
   "execution_count": 3,
   "metadata": {},
   "outputs": [],
   "source": [
    "import numpy as np\n",
    "import pandas as pd\n",
    "import mysql.connector\n",
    "import os\n",
    "import json\n",
    "import sys\n",
    "sys.path.insert(0, '../source/')\n",
    "from db_settings import *"
   ]
  },
  {
   "cell_type": "code",
   "execution_count": 12,
   "metadata": {},
   "outputs": [
    {
     "data": {
      "text/plain": [
       "array(['ZTF20aahqbib', 'ZTF20aahapsq', 'ZTF20aaeujsk', 'ZTF20aafxrcv',\n",
       "       'ZTF20aafxygy', 'ZTF20aaghlkv', 'ZTF20aafwbcs', 'ZTF20aaglivt',\n",
       "       'ZTF20aaflaug', 'ZTF20aafrihv', 'ZTF20aafvzhu', 'ZTF20aagfjlj',\n",
       "       'ZTF20aaffgwg', 'ZTF20aafdglk', 'ZTF20aadvaoi', 'ZTF20aaemtgw',\n",
       "       'ZTF20aafgbrf', 'ZTF20aafciit', 'ZTF20aaezizk', 'ZTF20aaeuxqk',\n",
       "       'ZTF20aadvbni', 'ZTF20aafcgca', 'ZTF20aadxcsc', 'ZTF20aaeszsm',\n",
       "       'ZTF20aadvunl', 'ZTF20aaevbvv', 'ZTF20aaetvkh', 'ZTF20aaevgyr',\n",
       "       'ZTF20aaesewy', 'ZTF20aaerxsd', 'ZTF20aaeopvv', 'ZTF20aaawmxq',\n",
       "       'ZTF20aadyukn', 'ZTF20aacbtgq', 'ZTF20aacwxut', 'ZTF20aadzwnu',\n",
       "       'ZTF20aadcdzj', 'ZTF20aaaxrad', 'ZTF20aaavvlv', 'ZTF20aadcitq',\n",
       "       'ZTF20aadccel', 'ZTF20aadcbux', 'ZTF20aacexgb', 'ZTF20aacevxq',\n",
       "       'ZTF20aabqdbo', 'ZTF20aacdfep', 'ZTF20aabqjht', 'ZTF20aabcouv',\n",
       "       'ZTF20aaawbxl', 'ZTF20aaawbkz', 'ZTF20aaactgu', 'ZTF20aaaboph',\n",
       "       'ZTF19adbsfpf', 'ZTF19adbricc', 'ZTF19adcbpcj', 'ZTF19adbnfne',\n",
       "       'ZTF19adcfsdr', 'ZTF19adcdgca', 'ZTF19adcdzjm', 'ZTF19adcdrng',\n",
       "       'ZTF19adcbxkw', 'ZTF19adbpulv', 'ZTF19adbnlki', 'ZTF19adbfhal',\n",
       "       'ZTF19adalouc', 'ZTF19acyqdxa', 'ZTF19aczrmvs', 'ZTF19adafqoe',\n",
       "       'ZTF19adajqcq', 'ZTF19adajqwl', 'ZTF19adajqsp', 'ZTF19adajivt',\n",
       "       'ZTF19adaiyud', 'ZTF19adaiyrd', 'ZTF18aaqvuhl', 'ZTF19acytcoi',\n",
       "       'ZTF19acypppb', 'ZTF19aczjsqn', 'ZTF19aczjkxo', 'ZTF19acxyucu',\n",
       "       'ZTF19acyiqnw', 'ZTF19acyplkt', 'ZTF19acyogvo', 'ZTF19acynije',\n",
       "       'ZTF19acymzwh', 'ZTF19acyndpl', 'ZTF19acygjmg', 'ZTF19acyitga',\n",
       "       'ZTF19acxndsk', 'ZTF19acxhkvc', 'ZTF19acwrujg', 'ZTF19actldas',\n",
       "       'ZTF19acnkeji', 'ZTF19acmwkul', 'ZTF18abquyqj'], dtype=object)"
      ]
     },
     "execution_count": 12,
     "metadata": {},
     "output_type": "execute_result"
    }
   ],
   "source": [
    "#get ids of some ztf objects that are classified as SNIA so I can then query lasair-db\n",
    "snIa_meta = pd.read_csv(\"../data/testing/snIa_metadata.csv\")\n",
    "snIa_meta.keys()\n",
    "snIa_meta_names = snIa_meta['Disc. Internal Name'].dropna()\n",
    "ztf_ids_snIa = snIa_meta_names[snIa_meta_names.str.contains(\"ZTF\")]\n",
    "ztf_ids_snIa.values"
   ]
  },
  {
   "cell_type": "code",
   "execution_count": 14,
   "metadata": {},
   "outputs": [
    {
     "data": {
      "text/plain": [
       "array(['ZTF19acmelor', 'ZTF19acdabep', 'ZTF19acbmojx', 'ZTF19abzqywg',\n",
       "       'ZTF19abztknu', 'ZTF19abvdgqo', 'ZTF19abucwzt', 'ZTF19abrirmk',\n",
       "       'ZTF19abqqrgy', 'ZTF19abiqnpv', 'ZTF19aarnqys', 'ZTF19aapwnmb',\n",
       "       'ZTF19aamgghn', 'ZTF19aalahqa', 'ZTF18aczcumi', 'ZTF18abjyjdz',\n",
       "       'ZTF18aaygwqd', 'ZTF20aagewqr', 'ZTF20aaeqmjl', 'ZTF20aaelulu',\n",
       "       'ZTF20aaekkuv', 'ZTF18aakpigz', 'ZTF19acjtpqd', 'ZTF19achiyvy',\n",
       "       'ZTF19aceqvhl', 'ZTF19abtsnyy', 'ZTF19abfiqjg', 'ZTF19abdoior',\n",
       "       'ZTF19abcegvm', 'ZTF19abauylg', 'ZTF19abafmwj', 'ZTF19aarfyvc',\n",
       "       'ZTF19aapceyj', 'ZTF19aanijpu', 'ZTF19aamsetj', 'ZTF19aadwtoe',\n",
       "       'ZTF19aadttht', 'ZTF18adasisj', 'ZTF18adaykvg', 'ZTF18aczqzrj',\n",
       "       'ZTF18acqphpd', 'ZTF18achcpwu', 'ZTF18aceqrrs', 'ZTF18aboabxv',\n",
       "       'ZTF18abkjnqy', 'ZTF18abecbks', 'ZTF18abbovuc', 'ZTF19abgnbjr',\n",
       "       'ZTF19aakpcuw', 'ZTF18acisruf', 'ZTF18abdffeo'], dtype=object)"
      ]
     },
     "execution_count": 14,
     "metadata": {},
     "output_type": "execute_result"
    }
   ],
   "source": [
    "#get ids of some ztf objects that are classified as SNIb/c so I can then query lasair-db\n",
    "snIbc_meta_0 = pd.read_csv(\"../data/testing/snIb_metadata.csv\")\n",
    "snIbc_meta_names_0 = snIbc_meta_0['Disc. Internal Name'].dropna()\n",
    "ztf_ids_0 = snIbc_meta_names_0[snIbc_meta_names_0.str.contains(\"ZTF\")]\n",
    "\n",
    "snIbc_meta_1 = pd.read_csv(\"../data/testing/snIc_metadata.csv\")\n",
    "snIbc_meta_names_1 = snIbc_meta_1['Disc. Internal Name'].dropna()\n",
    "ztf_ids_1 = snIbc_meta_names_1[snIbc_meta_names_1.str.contains(\"ZTF\")]\n",
    "\n",
    "snIbc_meta_2 = pd.read_csv(\"../data/testing/snIbc_metadata.csv\")\n",
    "snIbc_meta_names_2 = snIbc_meta_2['Disc. Internal Name'].dropna()\n",
    "ztf_ids_2 = snIbc_meta_names_2[snIbc_meta_names_2.str.contains(\"ZTF\")]\n",
    "\n",
    "ztf_ids_bc = pd.concat([ztf_ids_0,ztf_ids_1,ztf_ids_2])\n",
    "ztf_ids_bc.values"
   ]
  },
  {
   "cell_type": "code",
   "execution_count": 15,
   "metadata": {},
   "outputs": [
    {
     "data": {
      "text/plain": [
       "array(['ZTF20aadtarr', 'ZTF20aaaweke', 'ZTF19acyjviz', 'ZTF19acyjysk',\n",
       "       'ZTF19acvkibv', 'ZTF19acukucu', 'ZTF19acjutrw', 'ZTF19acftude',\n",
       "       'ZTF19aceqlxc', 'ZTF19acapech', 'ZTF19abpvbzf', 'ZTF19ablojrw',\n",
       "       'ZTF19abgndlf', 'ZTF19abdviwl', 'ZTF19abcejfo', 'ZTF19abandzh',\n",
       "       'ZTF19aaxeaag', 'ZTF19aarxrem', 'ZTF19aasekcx', 'ZTF19aarzaod',\n",
       "       'ZTF19aapzbjr', 'ZTF19aaqasrq', 'ZTF19aaozsuh', 'ZTF19aanfqug',\n",
       "       'ZTF19aanqzhm', 'ZTF19aamljom', 'ZTF19aaksxgp', 'ZTF19aailptb',\n",
       "       'ZTF19aamkmxv', 'ZTF19aadgimr', 'ZTF18aczuooo', 'ZTF18acvgjqv',\n",
       "       'ZTF18acbvhfl', 'ZTF18abuicad', 'ZTF18abxbhov', 'ZTF18abvgjgb',\n",
       "       'ZTF18abtswjk', 'ZTF18ablqehq', 'ZTF18aamftst', 'ZTF18aaxxfgs',\n",
       "       'ZTF18aaxjuwy', 'ZTF18aauenwu', 'ZTF18aakrnvd'], dtype=object)"
      ]
     },
     "execution_count": 15,
     "metadata": {},
     "output_type": "execute_result"
    }
   ],
   "source": [
    "#get ids of some ztf objects that are classified as SNIIn so I can then query lasair-db\n",
    "snIIn_meta= pd.read_csv(\"../data/testing/snIIn_metadata.csv\")\n",
    "snIIn_meta_names = snIIn_meta['Disc. Internal Name'].dropna()\n",
    "ztf_ids_IIn = snIIn_meta_names[snIIn_meta_names.str.contains(\"ZTF\")]\n",
    "ztf_ids_IIn.values"
   ]
  },
  {
   "cell_type": "code",
   "execution_count": 16,
   "metadata": {},
   "outputs": [
    {
     "data": {
      "text/plain": [
       "array(['ZTF19ackjvtl', 'ZTF19acgzzea', 'ZTF19achjqbk', 'ZTF19acftfav',\n",
       "       'ZTF19aceckht', 'ZTF19acbwmqd', 'ZTF19acbhvgi', 'ZTF19abqyoxj',\n",
       "       'ZTF19abqyouo', 'ZTF19abtslqm', 'ZTF19aavjzrz', 'ZTF19aaycrgf',\n",
       "       'ZTF19aavkptg', 'ZTF19aamftfu', 'ZTF19aaduufr', 'ZTF19aafnend',\n",
       "       'ZTF19aadnwbv', 'ZTF18acyybvg', 'ZTF18abxbmcl', 'ZTF18abrzbtb',\n",
       "       'ZTF18abrlljc', 'ZTF18abckutn', 'ZTF18aaxkqgy', 'ZTF18aakctzv'],\n",
       "      dtype=object)"
      ]
     },
     "execution_count": 16,
     "metadata": {},
     "output_type": "execute_result"
    }
   ],
   "source": [
    "#get ids of some ztf objects that are classified as SNIIP so I can then query lasair-db\n",
    "snIIP_meta= pd.read_csv(\"../data/testing/snIIP_metadata.csv\")\n",
    "snIIP_meta_names = snIIP_meta['Disc. Internal Name'].dropna()\n",
    "ztf_ids_IIP = snIIP_meta_names[snIIP_meta_names.str.contains(\"ZTF\")]\n",
    "ztf_ids_IIP.values"
   ]
  },
  {
   "cell_type": "code",
   "execution_count": null,
   "metadata": {},
   "outputs": [],
   "source": []
  }
 ],
 "metadata": {
  "kernelspec": {
   "display_name": "Python 3",
   "language": "python",
   "name": "python3"
  },
  "language_info": {
   "codemirror_mode": {
    "name": "ipython",
    "version": 3
   },
   "file_extension": ".py",
   "mimetype": "text/x-python",
   "name": "python",
   "nbconvert_exporter": "python",
   "pygments_lexer": "ipython3",
   "version": "3.7.6"
  }
 },
 "nbformat": 4,
 "nbformat_minor": 2
}
